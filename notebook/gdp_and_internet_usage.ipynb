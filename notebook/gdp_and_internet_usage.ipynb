{
 "cells": [
  {
   "cell_type": "code",
   "execution_count": 1,
   "id": "b00e273d",
   "metadata": {},
   "outputs": [],
   "source": [
    "import pandas as pd\n",
    "import numpy as np\n",
    "import matplotlib.pyplot as plt\n",
    "import seaborn as sns"
   ]
  },
  {
   "cell_type": "code",
   "execution_count": 2,
   "id": "5630fa5b",
   "metadata": {},
   "outputs": [],
   "source": [
    "%matplotlib inline"
   ]
  },
  {
   "cell_type": "markdown",
   "id": "db8475c5",
   "metadata": {},
   "source": [
    "#Using the pandas read_csv() method, read the GDP dataset into your notebook as a DataFrame called gdp_df. Take a look at the first 6 rows."
   ]
  },
  {
   "cell_type": "code",
   "execution_count": 3,
   "id": "df8de206",
   "metadata": {},
   "outputs": [],
   "source": [
    "gdp_df=pd.read_csv(\"C:/Users/iulia/Documents/NSS/projects/gdp-and-internet-usage-igoike/data/gdp_percapita.csv\")"
   ]
  },
  {
   "cell_type": "code",
   "execution_count": 4,
   "id": "b76ee3da",
   "metadata": {},
   "outputs": [],
   "source": [
    "internet_df=pd.read_csv(\"C:/Users/iulia/Documents/NSS/projects/gdp-and-internet-usage-igoike/data/internet_use.csv\",nrows=4496)"
   ]
  },
  {
   "cell_type": "markdown",
   "id": "7b9d72e9",
   "metadata": {},
   "source": [
    "#Repeat for the internet use dataset. Call this DataFrame internet_df. Take a look at the first six rows."
   ]
  },
  {
   "cell_type": "code",
   "execution_count": 5,
   "id": "41cfa45e",
   "metadata": {},
   "outputs": [
    {
     "name": "stdout",
     "output_type": "stream",
     "text": [
      "  Country or Area  Year        Value  Value Footnotes\n",
      "0     Afghanistan  2019  2065.036398              NaN\n",
      "1     Afghanistan  2018  2033.779002              NaN\n",
      "2     Afghanistan  2017  2058.383832              NaN\n",
      "3     Afghanistan  2016  2057.062164              NaN\n",
      "4     Afghanistan  2015  2068.265904              NaN\n",
      "5     Afghanistan  2014  2102.385234              NaN\n"
     ]
    }
   ],
   "source": [
    "print(gdp_df.head(n=6))"
   ]
  },
  {
   "cell_type": "code",
   "execution_count": 6,
   "id": "a7b83095",
   "metadata": {},
   "outputs": [
    {
     "name": "stdout",
     "output_type": "stream",
     "text": [
      "  Country or Area  Year     Value  Value Footnotes\n",
      "0     Afghanistan  2014  6.390000              NaN\n",
      "1     Afghanistan  2013  5.900000              NaN\n",
      "2     Afghanistan  2012  5.454545              NaN\n",
      "3     Afghanistan  2011  5.000000              NaN\n",
      "4     Afghanistan  2010  4.000000              NaN\n",
      "5     Afghanistan  2009  3.550000              NaN\n"
     ]
    }
   ],
   "source": [
    "print(internet_df.head(n=6))"
   ]
  },
  {
   "cell_type": "markdown",
   "id": "efe1b3b3",
   "metadata": {},
   "source": [
    "#Take a look at the datatypes for the columns in each DataFrame."
   ]
  },
  {
   "cell_type": "code",
   "execution_count": 7,
   "id": "c3b9929c",
   "metadata": {},
   "outputs": [
    {
     "data": {
      "text/plain": [
       "Country or Area     object\n",
       "Year                object\n",
       "Value              float64\n",
       "Value Footnotes    float64\n",
       "dtype: object"
      ]
     },
     "execution_count": 7,
     "metadata": {},
     "output_type": "execute_result"
    }
   ],
   "source": [
    "gdp_df.dtypes"
   ]
  },
  {
   "cell_type": "code",
   "execution_count": 8,
   "id": "302df2f2",
   "metadata": {},
   "outputs": [
    {
     "data": {
      "text/plain": [
       "Country or Area     object\n",
       "Year                object\n",
       "Value              float64\n",
       "Value Footnotes    float64\n",
       "dtype: object"
      ]
     },
     "execution_count": 8,
     "metadata": {},
     "output_type": "execute_result"
    }
   ],
   "source": [
    "internet_df.dtypes"
   ]
  },
  {
   "cell_type": "markdown",
   "id": "36f78433",
   "metadata": {},
   "source": [
    "#Look at the shape of each DataFrame - how many rows? How many columns?"
   ]
  },
  {
   "cell_type": "code",
   "execution_count": 9,
   "id": "d6b76ad7",
   "metadata": {},
   "outputs": [
    {
     "name": "stdout",
     "output_type": "stream",
     "text": [
      "     Country or Area                                      Year        Value  \\\n",
      "0        Afghanistan                                      2019  2065.036398   \n",
      "1        Afghanistan                                      2018  2033.779002   \n",
      "2        Afghanistan                                      2017  2058.383832   \n",
      "3        Afghanistan                                      2016  2057.062164   \n",
      "4        Afghanistan                                      2015  2068.265904   \n",
      "...              ...                                       ...          ...   \n",
      "6865        Zimbabwe                                      1992  3054.889178   \n",
      "6866        Zimbabwe                                      1991  3426.598094   \n",
      "6867        Zimbabwe                                      1990  3324.348171   \n",
      "6868   footnoteSeqID                                  Footnote          NaN   \n",
      "6869               2  Excludes South Sudan after July 9, 2011.          NaN   \n",
      "\n",
      "      Value Footnotes  \n",
      "0                 NaN  \n",
      "1                 NaN  \n",
      "2                 NaN  \n",
      "3                 NaN  \n",
      "4                 NaN  \n",
      "...               ...  \n",
      "6865              NaN  \n",
      "6866              NaN  \n",
      "6867              NaN  \n",
      "6868              NaN  \n",
      "6869              NaN  \n",
      "\n",
      "[6870 rows x 4 columns]\n"
     ]
    }
   ],
   "source": [
    "print(gdp_df)"
   ]
  },
  {
   "cell_type": "code",
   "execution_count": 10,
   "id": "e270ca74",
   "metadata": {},
   "outputs": [
    {
     "name": "stdout",
     "output_type": "stream",
     "text": [
      "     Country or Area      Year     Value  Value Footnotes\n",
      "0        Afghanistan      2014  6.390000              NaN\n",
      "1        Afghanistan      2013  5.900000              NaN\n",
      "2        Afghanistan      2012  5.454545              NaN\n",
      "3        Afghanistan      2011  5.000000              NaN\n",
      "4        Afghanistan      2010  4.000000              NaN\n",
      "...              ...       ...       ...              ...\n",
      "4491        Zimbabwe      1996  0.016790              NaN\n",
      "4492        Zimbabwe      1995  0.007684              NaN\n",
      "4493        Zimbabwe      1994  0.001739              NaN\n",
      "4494        Zimbabwe      1990  0.000000              NaN\n",
      "4495   footnoteSeqID  Footnote       NaN              NaN\n",
      "\n",
      "[4496 rows x 4 columns]\n"
     ]
    }
   ],
   "source": [
    "print(internet_df)"
   ]
  },
  {
   "cell_type": "markdown",
   "id": "730b148a",
   "metadata": {},
   "source": [
    "#Take a look at the last 10 rows of each DataFrame in turn."
   ]
  },
  {
   "cell_type": "code",
   "execution_count": 11,
   "id": "6dc0bcf9",
   "metadata": {},
   "outputs": [
    {
     "name": "stdout",
     "output_type": "stream",
     "text": [
      "     Country or Area                                      Year        Value  \\\n",
      "6860        Zimbabwe                                      1997  3580.048793   \n",
      "6861        Zimbabwe                                      1996  3520.430146   \n",
      "6862        Zimbabwe                                      1995  3226.413930   \n",
      "6863        Zimbabwe                                      1994  3263.934978   \n",
      "6864        Zimbabwe                                      1993  3033.504852   \n",
      "6865        Zimbabwe                                      1992  3054.889178   \n",
      "6866        Zimbabwe                                      1991  3426.598094   \n",
      "6867        Zimbabwe                                      1990  3324.348171   \n",
      "6868   footnoteSeqID                                  Footnote          NaN   \n",
      "6869               2  Excludes South Sudan after July 9, 2011.          NaN   \n",
      "\n",
      "      Value Footnotes  \n",
      "6860              NaN  \n",
      "6861              NaN  \n",
      "6862              NaN  \n",
      "6863              NaN  \n",
      "6864              NaN  \n",
      "6865              NaN  \n",
      "6866              NaN  \n",
      "6867              NaN  \n",
      "6868              NaN  \n",
      "6869              NaN  \n"
     ]
    }
   ],
   "source": [
    "print(gdp_df.tail(n=10))"
   ]
  },
  {
   "cell_type": "code",
   "execution_count": 12,
   "id": "6a72e995",
   "metadata": {},
   "outputs": [
    {
     "name": "stdout",
     "output_type": "stream",
     "text": [
      "     Country or Area      Year     Value  Value Footnotes\n",
      "4486        Zimbabwe      2001  0.799846              NaN\n",
      "4487        Zimbabwe      2000  0.401434              NaN\n",
      "4488        Zimbabwe      1999  0.161676              NaN\n",
      "4489        Zimbabwe      1998  0.081648              NaN\n",
      "4490        Zimbabwe      1997  0.033080              NaN\n",
      "4491        Zimbabwe      1996  0.016790              NaN\n",
      "4492        Zimbabwe      1995  0.007684              NaN\n",
      "4493        Zimbabwe      1994  0.001739              NaN\n",
      "4494        Zimbabwe      1990  0.000000              NaN\n",
      "4495   footnoteSeqID  Footnote       NaN              NaN\n"
     ]
    }
   ],
   "source": [
    "print(internet_df.tail(n=10))"
   ]
  },
  {
   "cell_type": "markdown",
   "id": "a9168824",
   "metadata": {},
   "source": [
    "#Drop the value footnotes column from both DataFrames. Check that this worked as expected."
   ]
  },
  {
   "cell_type": "code",
   "execution_count": 13,
   "id": "52a2dd75",
   "metadata": {},
   "outputs": [],
   "source": [
    "gdp_df=gdp_df.drop(['Value Footnotes'], axis=1)"
   ]
  },
  {
   "cell_type": "code",
   "execution_count": 14,
   "id": "89c1f746",
   "metadata": {},
   "outputs": [
    {
     "name": "stdout",
     "output_type": "stream",
     "text": [
      "     Country or Area                                      Year        Value\n",
      "0        Afghanistan                                      2019  2065.036398\n",
      "1        Afghanistan                                      2018  2033.779002\n",
      "2        Afghanistan                                      2017  2058.383832\n",
      "3        Afghanistan                                      2016  2057.062164\n",
      "4        Afghanistan                                      2015  2068.265904\n",
      "...              ...                                       ...          ...\n",
      "6865        Zimbabwe                                      1992  3054.889178\n",
      "6866        Zimbabwe                                      1991  3426.598094\n",
      "6867        Zimbabwe                                      1990  3324.348171\n",
      "6868   footnoteSeqID                                  Footnote          NaN\n",
      "6869               2  Excludes South Sudan after July 9, 2011.          NaN\n",
      "\n",
      "[6870 rows x 3 columns]\n"
     ]
    }
   ],
   "source": [
    "print(gdp_df)"
   ]
  },
  {
   "cell_type": "code",
   "execution_count": 15,
   "id": "29e3b173",
   "metadata": {},
   "outputs": [],
   "source": [
    "internet_df=internet_df.drop(['Value Footnotes'], axis=1)"
   ]
  },
  {
   "cell_type": "code",
   "execution_count": 16,
   "id": "43dbaa03",
   "metadata": {},
   "outputs": [
    {
     "name": "stdout",
     "output_type": "stream",
     "text": [
      "     Country or Area      Year     Value\n",
      "0        Afghanistan      2014  6.390000\n",
      "1        Afghanistan      2013  5.900000\n",
      "2        Afghanistan      2012  5.454545\n",
      "3        Afghanistan      2011  5.000000\n",
      "4        Afghanistan      2010  4.000000\n",
      "...              ...       ...       ...\n",
      "4491        Zimbabwe      1996  0.016790\n",
      "4492        Zimbabwe      1995  0.007684\n",
      "4493        Zimbabwe      1994  0.001739\n",
      "4494        Zimbabwe      1990  0.000000\n",
      "4495   footnoteSeqID  Footnote       NaN\n",
      "\n",
      "[4496 rows x 3 columns]\n"
     ]
    }
   ],
   "source": [
    "print(internet_df)"
   ]
  },
  {
   "cell_type": "markdown",
   "id": "9b1553f0",
   "metadata": {},
   "source": [
    "#Change the columns for the GDP Per Capita DataFrame to ‘Country’, ‘Year’, and ‘GDP_Per_Capita’."
   ]
  },
  {
   "cell_type": "code",
   "execution_count": 18,
   "id": "860ec17e",
   "metadata": {},
   "outputs": [],
   "source": [
    "gdp_df.columns =[ 'Country', 'Year','GDP_Per_Capita']"
   ]
  },
  {
   "cell_type": "code",
   "execution_count": 19,
   "id": "d7e1e415",
   "metadata": {},
   "outputs": [
    {
     "name": "stdout",
     "output_type": "stream",
     "text": [
      "            Country                                      Year  GDP_Per_Capita\n",
      "0       Afghanistan                                      2019     2065.036398\n",
      "1       Afghanistan                                      2018     2033.779002\n",
      "2       Afghanistan                                      2017     2058.383832\n",
      "3       Afghanistan                                      2016     2057.062164\n",
      "4       Afghanistan                                      2015     2068.265904\n",
      "...             ...                                       ...             ...\n",
      "6865       Zimbabwe                                      1992     3054.889178\n",
      "6866       Zimbabwe                                      1991     3426.598094\n",
      "6867       Zimbabwe                                      1990     3324.348171\n",
      "6868  footnoteSeqID                                  Footnote             NaN\n",
      "6869              2  Excludes South Sudan after July 9, 2011.             NaN\n",
      "\n",
      "[6870 rows x 3 columns]\n"
     ]
    }
   ],
   "source": [
    "print(gdp_df)"
   ]
  },
  {
   "cell_type": "code",
   "execution_count": 20,
   "id": "a83b790f",
   "metadata": {},
   "outputs": [],
   "source": [
    "internet_df.columns =[ 'Country', 'Year','Internet_Users_Pct']"
   ]
  },
  {
   "cell_type": "code",
   "execution_count": 21,
   "id": "b487102e",
   "metadata": {},
   "outputs": [
    {
     "name": "stdout",
     "output_type": "stream",
     "text": [
      "            Country      Year  Internet_Users_Pct\n",
      "0       Afghanistan      2014            6.390000\n",
      "1       Afghanistan      2013            5.900000\n",
      "2       Afghanistan      2012            5.454545\n",
      "3       Afghanistan      2011            5.000000\n",
      "4       Afghanistan      2010            4.000000\n",
      "...             ...       ...                 ...\n",
      "4491       Zimbabwe      1996            0.016790\n",
      "4492       Zimbabwe      1995            0.007684\n",
      "4493       Zimbabwe      1994            0.001739\n",
      "4494       Zimbabwe      1990            0.000000\n",
      "4495  footnoteSeqID  Footnote                 NaN\n",
      "\n",
      "[4496 rows x 3 columns]\n"
     ]
    }
   ],
   "source": [
    "print(internet_df)"
   ]
  },
  {
   "cell_type": "markdown",
   "id": "f8d82b09",
   "metadata": {},
   "source": [
    "#Merge the two DataFrames to one. Merge all rows from each of the two DataFrames. Call the new DataFrame gdp_and_internet_use."
   ]
  },
  {
   "cell_type": "code",
   "execution_count": null,
   "id": "fa9d9f9d",
   "metadata": {},
   "outputs": [],
   "source": []
  }
 ],
 "metadata": {
  "kernelspec": {
   "display_name": "Python 3 (ipykernel)",
   "language": "python",
   "name": "python3"
  },
  "language_info": {
   "codemirror_mode": {
    "name": "ipython",
    "version": 3
   },
   "file_extension": ".py",
   "mimetype": "text/x-python",
   "name": "python",
   "nbconvert_exporter": "python",
   "pygments_lexer": "ipython3",
   "version": "3.9.7"
  }
 },
 "nbformat": 4,
 "nbformat_minor": 5
}

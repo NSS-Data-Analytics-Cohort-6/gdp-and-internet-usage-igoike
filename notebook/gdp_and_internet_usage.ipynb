{
 "cells": [
  {
   "cell_type": "code",
   "execution_count": 1,
   "id": "b00e273d",
   "metadata": {},
   "outputs": [],
   "source": [
    "import pandas as pd\n",
    "import numpy as np\n",
    "import matplotlib.pyplot as plt\n",
    "import seaborn as sns"
   ]
  },
  {
   "cell_type": "code",
   "execution_count": 2,
   "id": "5630fa5b",
   "metadata": {},
   "outputs": [],
   "source": [
    "%matplotlib inline"
   ]
  },
  {
   "cell_type": "markdown",
   "id": "db8475c5",
   "metadata": {},
   "source": [
    "###5.Using the pandas read_csv() method, read the GDP dataset into your notebook as a DataFrame called gdp_df. Take a look at the first 6 rows."
   ]
  },
  {
   "cell_type": "code",
   "execution_count": 3,
   "id": "df8de206",
   "metadata": {},
   "outputs": [],
   "source": [
    "gdp_df=pd.read_csv(\"C:/Users/iulia/Documents/NSS/projects/gdp-and-internet-usage-igoike/data/gdp_percapita.csv\")"
   ]
  },
  {
   "cell_type": "code",
   "execution_count": 4,
   "id": "b76ee3da",
   "metadata": {},
   "outputs": [],
   "source": [
    "internet_df=pd.read_csv(\"C:/Users/iulia/Documents/NSS/projects/gdp-and-internet-usage-igoike/data/internet_use.csv\",nrows=4496)"
   ]
  },
  {
   "cell_type": "markdown",
   "id": "7b9d72e9",
   "metadata": {},
   "source": [
    "###6.Repeat for the internet use dataset. Call this DataFrame internet_df. Take a look at the first six rows."
   ]
  },
  {
   "cell_type": "code",
   "execution_count": 5,
   "id": "41cfa45e",
   "metadata": {},
   "outputs": [
    {
     "name": "stdout",
     "output_type": "stream",
     "text": [
      "  Country or Area  Year        Value  Value Footnotes\n",
      "0     Afghanistan  2019  2065.036398              NaN\n",
      "1     Afghanistan  2018  2033.779002              NaN\n",
      "2     Afghanistan  2017  2058.383832              NaN\n",
      "3     Afghanistan  2016  2057.062164              NaN\n",
      "4     Afghanistan  2015  2068.265904              NaN\n",
      "5     Afghanistan  2014  2102.385234              NaN\n"
     ]
    }
   ],
   "source": [
    "print(gdp_df.head(n=6))"
   ]
  },
  {
   "cell_type": "code",
   "execution_count": 6,
   "id": "a7b83095",
   "metadata": {},
   "outputs": [
    {
     "name": "stdout",
     "output_type": "stream",
     "text": [
      "  Country or Area  Year     Value  Value Footnotes\n",
      "0     Afghanistan  2014  6.390000              NaN\n",
      "1     Afghanistan  2013  5.900000              NaN\n",
      "2     Afghanistan  2012  5.454545              NaN\n",
      "3     Afghanistan  2011  5.000000              NaN\n",
      "4     Afghanistan  2010  4.000000              NaN\n",
      "5     Afghanistan  2009  3.550000              NaN\n"
     ]
    }
   ],
   "source": [
    "print(internet_df.head(n=6))"
   ]
  },
  {
   "cell_type": "markdown",
   "id": "efe1b3b3",
   "metadata": {},
   "source": [
    "###8.Take a look at the datatypes for the columns in each DataFrame."
   ]
  },
  {
   "cell_type": "code",
   "execution_count": 7,
   "id": "c3b9929c",
   "metadata": {},
   "outputs": [
    {
     "data": {
      "text/plain": [
       "Country or Area     object\n",
       "Year                object\n",
       "Value              float64\n",
       "Value Footnotes    float64\n",
       "dtype: object"
      ]
     },
     "execution_count": 7,
     "metadata": {},
     "output_type": "execute_result"
    }
   ],
   "source": [
    "gdp_df.dtypes"
   ]
  },
  {
   "cell_type": "code",
   "execution_count": 8,
   "id": "302df2f2",
   "metadata": {},
   "outputs": [
    {
     "data": {
      "text/plain": [
       "Country or Area     object\n",
       "Year                object\n",
       "Value              float64\n",
       "Value Footnotes    float64\n",
       "dtype: object"
      ]
     },
     "execution_count": 8,
     "metadata": {},
     "output_type": "execute_result"
    }
   ],
   "source": [
    "internet_df.dtypes"
   ]
  },
  {
   "cell_type": "markdown",
   "id": "36f78433",
   "metadata": {},
   "source": [
    "###7.Look at the shape of each DataFrame - how many rows? How many columns?"
   ]
  },
  {
   "cell_type": "code",
   "execution_count": 9,
   "id": "d6b76ad7",
   "metadata": {},
   "outputs": [
    {
     "name": "stdout",
     "output_type": "stream",
     "text": [
      "     Country or Area                                      Year        Value  \\\n",
      "0        Afghanistan                                      2019  2065.036398   \n",
      "1        Afghanistan                                      2018  2033.779002   \n",
      "2        Afghanistan                                      2017  2058.383832   \n",
      "3        Afghanistan                                      2016  2057.062164   \n",
      "4        Afghanistan                                      2015  2068.265904   \n",
      "...              ...                                       ...          ...   \n",
      "6865        Zimbabwe                                      1992  3054.889178   \n",
      "6866        Zimbabwe                                      1991  3426.598094   \n",
      "6867        Zimbabwe                                      1990  3324.348171   \n",
      "6868   footnoteSeqID                                  Footnote          NaN   \n",
      "6869               2  Excludes South Sudan after July 9, 2011.          NaN   \n",
      "\n",
      "      Value Footnotes  \n",
      "0                 NaN  \n",
      "1                 NaN  \n",
      "2                 NaN  \n",
      "3                 NaN  \n",
      "4                 NaN  \n",
      "...               ...  \n",
      "6865              NaN  \n",
      "6866              NaN  \n",
      "6867              NaN  \n",
      "6868              NaN  \n",
      "6869              NaN  \n",
      "\n",
      "[6870 rows x 4 columns]\n"
     ]
    }
   ],
   "source": [
    "print(gdp_df)"
   ]
  },
  {
   "cell_type": "code",
   "execution_count": 10,
   "id": "e270ca74",
   "metadata": {},
   "outputs": [
    {
     "name": "stdout",
     "output_type": "stream",
     "text": [
      "     Country or Area      Year     Value  Value Footnotes\n",
      "0        Afghanistan      2014  6.390000              NaN\n",
      "1        Afghanistan      2013  5.900000              NaN\n",
      "2        Afghanistan      2012  5.454545              NaN\n",
      "3        Afghanistan      2011  5.000000              NaN\n",
      "4        Afghanistan      2010  4.000000              NaN\n",
      "...              ...       ...       ...              ...\n",
      "4491        Zimbabwe      1996  0.016790              NaN\n",
      "4492        Zimbabwe      1995  0.007684              NaN\n",
      "4493        Zimbabwe      1994  0.001739              NaN\n",
      "4494        Zimbabwe      1990  0.000000              NaN\n",
      "4495   footnoteSeqID  Footnote       NaN              NaN\n",
      "\n",
      "[4496 rows x 4 columns]\n"
     ]
    }
   ],
   "source": [
    "print(internet_df)"
   ]
  },
  {
   "cell_type": "markdown",
   "id": "730b148a",
   "metadata": {},
   "source": [
    "###9.Take a look at the last 10 rows of each DataFrame in turn."
   ]
  },
  {
   "cell_type": "code",
   "execution_count": 11,
   "id": "6dc0bcf9",
   "metadata": {},
   "outputs": [
    {
     "name": "stdout",
     "output_type": "stream",
     "text": [
      "     Country or Area                                      Year        Value  \\\n",
      "6860        Zimbabwe                                      1997  3580.048793   \n",
      "6861        Zimbabwe                                      1996  3520.430146   \n",
      "6862        Zimbabwe                                      1995  3226.413930   \n",
      "6863        Zimbabwe                                      1994  3263.934978   \n",
      "6864        Zimbabwe                                      1993  3033.504852   \n",
      "6865        Zimbabwe                                      1992  3054.889178   \n",
      "6866        Zimbabwe                                      1991  3426.598094   \n",
      "6867        Zimbabwe                                      1990  3324.348171   \n",
      "6868   footnoteSeqID                                  Footnote          NaN   \n",
      "6869               2  Excludes South Sudan after July 9, 2011.          NaN   \n",
      "\n",
      "      Value Footnotes  \n",
      "6860              NaN  \n",
      "6861              NaN  \n",
      "6862              NaN  \n",
      "6863              NaN  \n",
      "6864              NaN  \n",
      "6865              NaN  \n",
      "6866              NaN  \n",
      "6867              NaN  \n",
      "6868              NaN  \n",
      "6869              NaN  \n"
     ]
    }
   ],
   "source": [
    "print(gdp_df.tail(n=10))"
   ]
  },
  {
   "cell_type": "code",
   "execution_count": 12,
   "id": "6a72e995",
   "metadata": {},
   "outputs": [
    {
     "name": "stdout",
     "output_type": "stream",
     "text": [
      "     Country or Area      Year     Value  Value Footnotes\n",
      "4486        Zimbabwe      2001  0.799846              NaN\n",
      "4487        Zimbabwe      2000  0.401434              NaN\n",
      "4488        Zimbabwe      1999  0.161676              NaN\n",
      "4489        Zimbabwe      1998  0.081648              NaN\n",
      "4490        Zimbabwe      1997  0.033080              NaN\n",
      "4491        Zimbabwe      1996  0.016790              NaN\n",
      "4492        Zimbabwe      1995  0.007684              NaN\n",
      "4493        Zimbabwe      1994  0.001739              NaN\n",
      "4494        Zimbabwe      1990  0.000000              NaN\n",
      "4495   footnoteSeqID  Footnote       NaN              NaN\n"
     ]
    }
   ],
   "source": [
    "print(internet_df.tail(n=10))"
   ]
  },
  {
   "cell_type": "markdown",
   "id": "a9168824",
   "metadata": {},
   "source": [
    "#10.Drop the value footnotes column from both DataFrames. Check that this worked as expected."
   ]
  },
  {
   "cell_type": "code",
   "execution_count": 13,
   "id": "52a2dd75",
   "metadata": {},
   "outputs": [],
   "source": [
    "gdp_df=gdp_df.drop(['Value Footnotes'], axis=1)"
   ]
  },
  {
   "cell_type": "code",
   "execution_count": 14,
   "id": "89c1f746",
   "metadata": {},
   "outputs": [
    {
     "name": "stdout",
     "output_type": "stream",
     "text": [
      "     Country or Area                                      Year        Value\n",
      "0        Afghanistan                                      2019  2065.036398\n",
      "1        Afghanistan                                      2018  2033.779002\n",
      "2        Afghanistan                                      2017  2058.383832\n",
      "3        Afghanistan                                      2016  2057.062164\n",
      "4        Afghanistan                                      2015  2068.265904\n",
      "...              ...                                       ...          ...\n",
      "6865        Zimbabwe                                      1992  3054.889178\n",
      "6866        Zimbabwe                                      1991  3426.598094\n",
      "6867        Zimbabwe                                      1990  3324.348171\n",
      "6868   footnoteSeqID                                  Footnote          NaN\n",
      "6869               2  Excludes South Sudan after July 9, 2011.          NaN\n",
      "\n",
      "[6870 rows x 3 columns]\n"
     ]
    }
   ],
   "source": [
    "print(gdp_df)"
   ]
  },
  {
   "cell_type": "code",
   "execution_count": 15,
   "id": "29e3b173",
   "metadata": {},
   "outputs": [],
   "source": [
    "internet_df=internet_df.drop(['Value Footnotes'], axis=1)"
   ]
  },
  {
   "cell_type": "code",
   "execution_count": 16,
   "id": "43dbaa03",
   "metadata": {},
   "outputs": [
    {
     "name": "stdout",
     "output_type": "stream",
     "text": [
      "     Country or Area      Year     Value\n",
      "0        Afghanistan      2014  6.390000\n",
      "1        Afghanistan      2013  5.900000\n",
      "2        Afghanistan      2012  5.454545\n",
      "3        Afghanistan      2011  5.000000\n",
      "4        Afghanistan      2010  4.000000\n",
      "...              ...       ...       ...\n",
      "4491        Zimbabwe      1996  0.016790\n",
      "4492        Zimbabwe      1995  0.007684\n",
      "4493        Zimbabwe      1994  0.001739\n",
      "4494        Zimbabwe      1990  0.000000\n",
      "4495   footnoteSeqID  Footnote       NaN\n",
      "\n",
      "[4496 rows x 3 columns]\n"
     ]
    }
   ],
   "source": [
    "print(internet_df)"
   ]
  },
  {
   "cell_type": "markdown",
   "id": "9b1553f0",
   "metadata": {},
   "source": [
    "###12.Change the columns for the GDP Per Capita DataFrame to ‘Country’, ‘Year’, and ‘GDP_Per_Capita’."
   ]
  },
  {
   "cell_type": "code",
   "execution_count": 17,
   "id": "860ec17e",
   "metadata": {},
   "outputs": [],
   "source": [
    "gdp_df.columns =[ 'Country', 'Year','GDP_Per_Capita']"
   ]
  },
  {
   "cell_type": "code",
   "execution_count": 18,
   "id": "d7e1e415",
   "metadata": {},
   "outputs": [
    {
     "name": "stdout",
     "output_type": "stream",
     "text": [
      "            Country                                      Year  GDP_Per_Capita\n",
      "0       Afghanistan                                      2019     2065.036398\n",
      "1       Afghanistan                                      2018     2033.779002\n",
      "2       Afghanistan                                      2017     2058.383832\n",
      "3       Afghanistan                                      2016     2057.062164\n",
      "4       Afghanistan                                      2015     2068.265904\n",
      "...             ...                                       ...             ...\n",
      "6865       Zimbabwe                                      1992     3054.889178\n",
      "6866       Zimbabwe                                      1991     3426.598094\n",
      "6867       Zimbabwe                                      1990     3324.348171\n",
      "6868  footnoteSeqID                                  Footnote             NaN\n",
      "6869              2  Excludes South Sudan after July 9, 2011.             NaN\n",
      "\n",
      "[6870 rows x 3 columns]\n"
     ]
    }
   ],
   "source": [
    "print(gdp_df)"
   ]
  },
  {
   "cell_type": "code",
   "execution_count": 19,
   "id": "a83b790f",
   "metadata": {},
   "outputs": [],
   "source": [
    "internet_df.columns =[ 'Country', 'Year','Internet_Users_Pct']"
   ]
  },
  {
   "cell_type": "code",
   "execution_count": 20,
   "id": "b487102e",
   "metadata": {},
   "outputs": [
    {
     "name": "stdout",
     "output_type": "stream",
     "text": [
      "            Country      Year  Internet_Users_Pct\n",
      "0       Afghanistan      2014            6.390000\n",
      "1       Afghanistan      2013            5.900000\n",
      "2       Afghanistan      2012            5.454545\n",
      "3       Afghanistan      2011            5.000000\n",
      "4       Afghanistan      2010            4.000000\n",
      "...             ...       ...                 ...\n",
      "4491       Zimbabwe      1996            0.016790\n",
      "4492       Zimbabwe      1995            0.007684\n",
      "4493       Zimbabwe      1994            0.001739\n",
      "4494       Zimbabwe      1990            0.000000\n",
      "4495  footnoteSeqID  Footnote                 NaN\n",
      "\n",
      "[4496 rows x 3 columns]\n"
     ]
    }
   ],
   "source": [
    "print(internet_df)"
   ]
  },
  {
   "cell_type": "markdown",
   "id": "f8d82b09",
   "metadata": {},
   "source": [
    "###13.Merge the two DataFrames to one. Merge all rows from each of the two DataFrames. Call the new DataFrame gdp_and_internet_use."
   ]
  },
  {
   "cell_type": "code",
   "execution_count": 21,
   "id": "7e5e079d",
   "metadata": {},
   "outputs": [],
   "source": [
    "gdp_and_internet_use = pd.merge(gdp_df, internet_df)"
   ]
  },
  {
   "cell_type": "code",
   "execution_count": 22,
   "id": "ed3d052e",
   "metadata": {},
   "outputs": [
    {
     "name": "stdout",
     "output_type": "stream",
     "text": [
      "       Country  Year  GDP_Per_Capita  Internet_Users_Pct\n",
      "0  Afghanistan  2014     2102.385234            6.390000\n",
      "1  Afghanistan  2013     2116.465454            5.900000\n",
      "2  Afghanistan  2012     2075.491747            5.454545\n",
      "3  Afghanistan  2011     1904.559799            5.000000\n",
      "4  Afghanistan  2010     1957.029338            4.000000\n"
     ]
    }
   ],
   "source": [
    "print(gdp_and_internet_use.head(n=5))"
   ]
  },
  {
   "cell_type": "code",
   "execution_count": 23,
   "id": "66fd03fa",
   "metadata": {},
   "outputs": [
    {
     "name": "stdout",
     "output_type": "stream",
     "text": [
      "            Country      Year  GDP_Per_Capita  Internet_Users_Pct\n",
      "3454       Zimbabwe      1996     3520.430146            0.016790\n",
      "3455       Zimbabwe      1995     3226.413930            0.007684\n",
      "3456       Zimbabwe      1994     3263.934978            0.001739\n",
      "3457       Zimbabwe      1990     3324.348171            0.000000\n",
      "3458  footnoteSeqID  Footnote             NaN                 NaN\n"
     ]
    }
   ],
   "source": [
    "print(gdp_and_internet_use.tail(n=5))"
   ]
  },
  {
   "cell_type": "markdown",
   "id": "c3f4e25c",
   "metadata": {},
   "source": [
    "###16.Subset the combined DataFrame to keep only the data for 2004, 2009, and 2014. Check that this happened correctly."
   ]
  },
  {
   "cell_type": "code",
   "execution_count": 24,
   "id": "b2bcc09c",
   "metadata": {},
   "outputs": [],
   "source": [
    "gdp_and_internet_use_sub = gdp_and_internet_use[gdp_and_internet_use[\"Year\"].isin(['2004','2009','2014'])]"
   ]
  },
  {
   "cell_type": "code",
   "execution_count": 25,
   "id": "4a289d59",
   "metadata": {},
   "outputs": [
    {
     "name": "stdout",
     "output_type": "stream",
     "text": [
      "          Country  Year  GDP_Per_Capita  Internet_Users_Pct\n",
      "0     Afghanistan  2014     2102.385234            6.390000\n",
      "5     Afghanistan  2009     1758.904043            3.550000\n",
      "10    Afghanistan  2004     1200.278256            0.105809\n",
      "13        Albania  2014    11623.866679           60.100000\n",
      "18        Albania  2009    10346.864199           41.200000\n",
      "...           ...   ...             ...                 ...\n",
      "3419       Zambia  2009     2917.516220            6.310000\n",
      "3424       Zambia  2004     2261.766537            2.013550\n",
      "3436     Zimbabwe  2014     2955.240287           19.890000\n",
      "3441     Zimbabwe  2009     1925.364381           11.360000\n",
      "3446     Zimbabwe  2004     2480.859342            6.564045\n",
      "\n",
      "[482 rows x 4 columns]\n"
     ]
    }
   ],
   "source": [
    "print(gdp_and_internet_use_sub)"
   ]
  },
  {
   "cell_type": "markdown",
   "id": "c827635e",
   "metadata": {},
   "source": [
    "###17.Create three new DataFrames, one for 2004, one for 2009, and one for 2014. Give them meaningful names that aren't too long."
   ]
  },
  {
   "cell_type": "code",
   "execution_count": 26,
   "id": "9edb2004",
   "metadata": {},
   "outputs": [
    {
     "name": "stderr",
     "output_type": "stream",
     "text": [
      "C:\\Users\\iulia\\AppData\\Local\\Temp/ipykernel_9720/2548977.py:1: UserWarning: Boolean Series key will be reindexed to match DataFrame index.\n",
      "  gdp_and_internet_use_2004 = gdp_and_internet_use_sub[gdp_and_internet_use[\"Year\"]=='2004']\n"
     ]
    }
   ],
   "source": [
    "gdp_and_internet_use_2004 = gdp_and_internet_use_sub[gdp_and_internet_use[\"Year\"]=='2004']"
   ]
  },
  {
   "cell_type": "code",
   "execution_count": 27,
   "id": "2d409346",
   "metadata": {},
   "outputs": [
    {
     "name": "stdout",
     "output_type": "stream",
     "text": [
      "                  Country  Year  GDP_Per_Capita  Internet_Users_Pct\n",
      "10            Afghanistan  2004     1200.278256            0.105809\n",
      "23                Albania  2004     7604.838002            2.420388\n",
      "44                Algeria  2004    10058.435939            4.634475\n",
      "66                 Angola  2004     5593.241537            0.464815\n",
      "86    Antigua and Barbuda  2004    18745.681534           24.266544\n",
      "...                   ...   ...             ...                 ...\n",
      "3361              Uruguay  2004    12479.966871           17.063098\n",
      "3383           Uzbekistan  2004     3221.189333            2.593725\n",
      "3404              Vanuatu  2004     2792.356252            4.746603\n",
      "3424               Zambia  2004     2261.766537            2.013550\n",
      "3446             Zimbabwe  2004     2480.859342            6.564045\n",
      "\n",
      "[157 rows x 4 columns]\n"
     ]
    }
   ],
   "source": [
    "print(gdp_and_internet_use_2004)"
   ]
  },
  {
   "cell_type": "code",
   "execution_count": 28,
   "id": "0af867f4",
   "metadata": {},
   "outputs": [
    {
     "name": "stderr",
     "output_type": "stream",
     "text": [
      "C:\\Users\\iulia\\AppData\\Local\\Temp/ipykernel_9720/1565708815.py:1: UserWarning: Boolean Series key will be reindexed to match DataFrame index.\n",
      "  gdp_and_internet_use_2009 = gdp_and_internet_use_sub[gdp_and_internet_use[\"Year\"]=='2009']\n"
     ]
    }
   ],
   "source": [
    "gdp_and_internet_use_2009 = gdp_and_internet_use_sub[gdp_and_internet_use[\"Year\"]=='2009']"
   ]
  },
  {
   "cell_type": "code",
   "execution_count": 29,
   "id": "5a2d1565",
   "metadata": {},
   "outputs": [
    {
     "name": "stdout",
     "output_type": "stream",
     "text": [
      "                  Country  Year  GDP_Per_Capita  Internet_Users_Pct\n",
      "5             Afghanistan  2009     1758.904043            3.550000\n",
      "18                Albania  2009    10346.864199           41.200000\n",
      "39                Algeria  2009    10782.361398           11.230000\n",
      "61                 Angola  2009     7643.493749            6.000000\n",
      "81    Antigua and Barbuda  2009    20046.839017           42.000000\n",
      "...                   ...   ...             ...                 ...\n",
      "3356              Uruguay  2009    16477.823860           41.800000\n",
      "3378           Uzbekistan  2009     4446.863606           17.058216\n",
      "3399              Vanuatu  2009     3270.529800            7.500000\n",
      "3419               Zambia  2009     2917.516220            6.310000\n",
      "3441             Zimbabwe  2009     1925.364381           11.360000\n",
      "\n",
      "[162 rows x 4 columns]\n"
     ]
    }
   ],
   "source": [
    "print(gdp_and_internet_use_2009)"
   ]
  },
  {
   "cell_type": "code",
   "execution_count": 30,
   "id": "19304bdf",
   "metadata": {},
   "outputs": [
    {
     "name": "stderr",
     "output_type": "stream",
     "text": [
      "C:\\Users\\iulia\\AppData\\Local\\Temp/ipykernel_9720/3872829687.py:1: UserWarning: Boolean Series key will be reindexed to match DataFrame index.\n",
      "  gdp_and_internet_use_2014 = gdp_and_internet_use_sub[gdp_and_internet_use[\"Year\"]=='2014']\n"
     ]
    }
   ],
   "source": [
    "gdp_and_internet_use_2014 = gdp_and_internet_use_sub[gdp_and_internet_use[\"Year\"]=='2014']"
   ]
  },
  {
   "cell_type": "code",
   "execution_count": 31,
   "id": "2975f405",
   "metadata": {},
   "outputs": [
    {
     "name": "stdout",
     "output_type": "stream",
     "text": [
      "                  Country  Year  GDP_Per_Capita  Internet_Users_Pct\n",
      "0             Afghanistan  2014     2102.385234                6.39\n",
      "13                Albania  2014    11623.866679               60.10\n",
      "34                Algeria  2014    11512.705405               18.09\n",
      "56                 Angola  2014     8239.828837               21.26\n",
      "76    Antigua and Barbuda  2014    18104.241470               64.00\n",
      "...                   ...   ...             ...                 ...\n",
      "3351              Uruguay  2014    20582.168953               61.46\n",
      "3373           Uzbekistan  2014     5764.492705               43.55\n",
      "3394              Vanuatu  2014     3116.077025               18.80\n",
      "3414               Zambia  2014     3450.046561               17.34\n",
      "3436             Zimbabwe  2014     2955.240287               19.89\n",
      "\n",
      "[163 rows x 4 columns]\n"
     ]
    }
   ],
   "source": [
    "print(gdp_and_internet_use_2014)"
   ]
  },
  {
   "cell_type": "markdown",
   "id": "4a6843fe",
   "metadata": {},
   "source": [
    "###18.Which country had the highest percentage of internet users in 2014? What was the percentage? (Try typing the first 3 letters of your DataFrame name and hitting the tab key for auto-complete options)."
   ]
  },
  {
   "cell_type": "code",
   "execution_count": 32,
   "id": "4a27a628",
   "metadata": {},
   "outputs": [
    {
     "name": "stdout",
     "output_type": "stream",
     "text": [
      "Country                  Iceland\n",
      "Year                        2014\n",
      "GDP_Per_Capita        49652.1495\n",
      "Internet_Users_Pct         98.16\n",
      "Name: 1381, dtype: object\n"
     ]
    }
   ],
   "source": [
    "print(gdp_and_internet_use_2014.loc[gdp_and_internet_use_2014['Internet_Users_Pct'].idxmax()])"
   ]
  },
  {
   "cell_type": "code",
   "execution_count": 33,
   "id": "a40a5565",
   "metadata": {},
   "outputs": [
    {
     "name": "stdout",
     "output_type": "stream",
     "text": [
      "Country               Timor-Leste\n",
      "Year                         2014\n",
      "GDP_Per_Capita         3264.56807\n",
      "Internet_Users_Pct           1.14\n",
      "Name: 3087, dtype: object\n"
     ]
    }
   ],
   "source": [
    "print(gdp_and_internet_use_2014.loc[gdp_and_internet_use_2014['Internet_Users_Pct'].idxmin()])"
   ]
  },
  {
   "cell_type": "markdown",
   "id": "0b4beba4",
   "metadata": {},
   "source": [
    "###20.Repeat for 2004 and 2009."
   ]
  },
  {
   "cell_type": "code",
   "execution_count": 34,
   "id": "f2fa4cf6",
   "metadata": {},
   "outputs": [
    {
     "name": "stdout",
     "output_type": "stream",
     "text": [
      "Country                     Sweden\n",
      "Year                          2004\n",
      "GDP_Per_Capita        44496.023401\n",
      "Internet_Users_Pct           83.89\n",
      "Name: 2985, dtype: object\n"
     ]
    }
   ],
   "source": [
    "print(gdp_and_internet_use_2004.loc[gdp_and_internet_use_2004['Internet_Users_Pct'].idxmax()])"
   ]
  },
  {
   "cell_type": "code",
   "execution_count": 35,
   "id": "d87767a5",
   "metadata": {},
   "outputs": [
    {
     "name": "stdout",
     "output_type": "stream",
     "text": [
      "Country                  Myanmar\n",
      "Year                        2004\n",
      "GDP_Per_Capita        1696.88176\n",
      "Internet_Users_Pct      0.024337\n",
      "Name: 2132, dtype: object\n"
     ]
    }
   ],
   "source": [
    "print(gdp_and_internet_use_2004.loc[gdp_and_internet_use_2004['Internet_Users_Pct'].idxmin()])"
   ]
  },
  {
   "cell_type": "code",
   "execution_count": 36,
   "id": "c14bb4ad",
   "metadata": {
    "scrolled": true
   },
   "outputs": [
    {
     "name": "stdout",
     "output_type": "stream",
     "text": [
      "Country                    Iceland\n",
      "Year                          2009\n",
      "GDP_Per_Capita        48177.084123\n",
      "Internet_Users_Pct            93.0\n",
      "Name: 1386, dtype: object\n"
     ]
    }
   ],
   "source": [
    "print(gdp_and_internet_use_2009.loc[gdp_and_internet_use_2009['Internet_Users_Pct'].idxmax()])"
   ]
  },
  {
   "cell_type": "code",
   "execution_count": 37,
   "id": "6577e6cc",
   "metadata": {},
   "outputs": [
    {
     "name": "stdout",
     "output_type": "stream",
     "text": [
      "Country                    Iceland\n",
      "Year                          2009\n",
      "GDP_Per_Capita        48177.084123\n",
      "Internet_Users_Pct            93.0\n",
      "Name: 1386, dtype: object\n"
     ]
    }
   ],
   "source": [
    "print(gdp_and_internet_use_2009.loc[gdp_and_internet_use_2009['Internet_Users_Pct'].idxmax()])"
   ]
  },
  {
   "cell_type": "markdown",
   "id": "0417424b",
   "metadata": {},
   "source": [
    "###21.Which country had the highest gdp per capita in 2014? What was the gdp per capita?"
   ]
  },
  {
   "cell_type": "code",
   "execution_count": 38,
   "id": "e23896fd",
   "metadata": {},
   "outputs": [
    {
     "name": "stdout",
     "output_type": "stream",
     "text": [
      "Country                  Luxembourg\n",
      "Year                           2009\n",
      "GDP_Per_Capita        104932.811953\n",
      "Internet_Users_Pct            87.31\n",
      "Name: 1803, dtype: object\n"
     ]
    }
   ],
   "source": [
    "print(gdp_and_internet_use_2009.loc[gdp_and_internet_use_2009['GDP_Per_Capita'].idxmax()])"
   ]
  },
  {
   "cell_type": "markdown",
   "id": "8b567406",
   "metadata": {},
   "source": [
    "###Which country had the lowest gdp per capita in 2014? What was the gdp per capita?"
   ]
  },
  {
   "cell_type": "code",
   "execution_count": 39,
   "id": "bbab2ab0",
   "metadata": {},
   "outputs": [
    {
     "name": "stdout",
     "output_type": "stream",
     "text": [
      "Country                  Burundi\n",
      "Year                        2009\n",
      "GDP_Per_Capita        831.564131\n",
      "Internet_Users_Pct           0.9\n",
      "Name: 545, dtype: object\n"
     ]
    }
   ],
   "source": [
    "print(gdp_and_internet_use_2009.loc[gdp_and_internet_use_2009['GDP_Per_Capita'].idxmin()])"
   ]
  },
  {
   "cell_type": "markdown",
   "id": "bc1f8eef",
   "metadata": {},
   "source": [
    "###23.Create some scatterplots:\n",
    "a. 2004 Percent Using the Internet vs GDP Per Capita"
   ]
  },
  {
   "cell_type": "code",
   "execution_count": 40,
   "id": "851d0063",
   "metadata": {},
   "outputs": [
    {
     "data": {
      "text/plain": [
       "<AxesSubplot:xlabel='Internet_Users_Pct', ylabel='GDP_Per_Capita'>"
      ]
     },
     "execution_count": 40,
     "metadata": {},
     "output_type": "execute_result"
    },
    {
     "data": {
      "image/png": "[encoded data removed]",
      "text/plain": [
       "<Figure size 432x288 with 1 Axes>"
      ]
     },
     "metadata": {
      "needs_background": "light"
     },
     "output_type": "display_data"
    }
   ],
   "source": [
    "gdp_and_internet_use_2004.plot.scatter(\"Internet_Users_Pct\",\"GDP_Per_Capita\")"
   ]
  },
  {
   "cell_type": "markdown",
   "id": "4148c4f4",
   "metadata": {},
   "source": [
    "###Create some scatterplots: b. 2009 Percent Using the Internet vs GDP Per Capita"
   ]
  },
  {
   "cell_type": "code",
   "execution_count": 41,
   "id": "d8dadfd7",
   "metadata": {},
   "outputs": [
    {
     "data": {
      "text/plain": [
       "<AxesSubplot:xlabel='Internet_Users_Pct', ylabel='GDP_Per_Capita'>"
      ]
     },
     "execution_count": 41,
     "metadata": {},
     "output_type": "execute_result"
    },
    {
     "data": {
      "image/png": "[encoded data removed]",
      "text/plain": [
       "<Figure size 432x288 with 1 Axes>"
      ]
     },
     "metadata": {
      "needs_background": "light"
     },
     "output_type": "display_data"
    }
   ],
   "source": [
    "gdp_and_internet_use_2009.plot.scatter(\"Internet_Users_Pct\",\"GDP_Per_Capita\")"
   ]
  },
  {
   "cell_type": "markdown",
   "id": "47a7e5ef",
   "metadata": {},
   "source": [
    "###Create some scatterplots: c. 2014 Percent Using the Internet vs GDP Per Capita"
   ]
  },
  {
   "cell_type": "code",
   "execution_count": 42,
   "id": "e9715b25",
   "metadata": {},
   "outputs": [
    {
     "data": {
      "text/plain": [
       "<AxesSubplot:xlabel='Internet_Users_Pct', ylabel='GDP_Per_Capita'>"
      ]
     },
     "execution_count": 42,
     "metadata": {},
     "output_type": "execute_result"
    },
    {
     "data": {
      "image/png": "[encoded data removed]",
      "text/plain": [
       "<Figure size 432x288 with 1 Axes>"
      ]
     },
     "metadata": {
      "needs_background": "light"
     },
     "output_type": "display_data"
    }
   ],
   "source": [
    "gdp_and_internet_use_2014.plot.scatter(\"Internet_Users_Pct\",\"GDP_Per_Capita\")"
   ]
  },
  {
   "cell_type": "markdown",
   "id": "e1b1777a",
   "metadata": {},
   "source": [
    "###What are the top 5 countries in terms of internet use in 2014?"
   ]
  },
  {
   "cell_type": "code",
   "execution_count": 46,
   "id": "8b30aee4",
   "metadata": {},
   "outputs": [
    {
     "data": {
      "text/html": [
       "<div>\n",
       "<style scoped>\n",
       "    .dataframe tbody tr th:only-of-type {\n",
       "        vertical-align: middle;\n",
       "    }\n",
       "\n",
       "    .dataframe tbody tr th {\n",
       "        vertical-align: top;\n",
       "    }\n",
       "\n",
       "    .dataframe thead th {\n",
       "        text-align: right;\n",
       "    }\n",
       "</style>\n",
       "<table border=\"1\" class=\"dataframe\">\n",
       "  <thead>\n",
       "    <tr style=\"text-align: right;\">\n",
       "      <th></th>\n",
       "      <th>Country</th>\n",
       "      <th>Year</th>\n",
       "      <th>GDP_Per_Capita</th>\n",
       "      <th>Internet_Users_Pct</th>\n",
       "    </tr>\n",
       "  </thead>\n",
       "  <tbody>\n",
       "    <tr>\n",
       "      <th>1381</th>\n",
       "      <td>Iceland</td>\n",
       "      <td>2014</td>\n",
       "      <td>49652.149500</td>\n",
       "      <td>98.16</td>\n",
       "    </tr>\n",
       "    <tr>\n",
       "      <th>372</th>\n",
       "      <td>Bermuda</td>\n",
       "      <td>2014</td>\n",
       "      <td>77361.104881</td>\n",
       "      <td>96.80</td>\n",
       "    </tr>\n",
       "    <tr>\n",
       "      <th>2296</th>\n",
       "      <td>Norway</td>\n",
       "      <td>2014</td>\n",
       "      <td>62589.373548</td>\n",
       "      <td>96.30</td>\n",
       "    </tr>\n",
       "    <tr>\n",
       "      <th>854</th>\n",
       "      <td>Denmark</td>\n",
       "      <td>2014</td>\n",
       "      <td>52214.537753</td>\n",
       "      <td>95.99</td>\n",
       "    </tr>\n",
       "    <tr>\n",
       "      <th>1798</th>\n",
       "      <td>Luxembourg</td>\n",
       "      <td>2014</td>\n",
       "      <td>108760.916030</td>\n",
       "      <td>94.67</td>\n",
       "    </tr>\n",
       "  </tbody>\n",
       "</table>\n",
       "</div>"
      ],
      "text/plain": [
       "         Country  Year  GDP_Per_Capita  Internet_Users_Pct\n",
       "1381     Iceland  2014    49652.149500               98.16\n",
       "372      Bermuda  2014    77361.104881               96.80\n",
       "2296      Norway  2014    62589.373548               96.30\n",
       "854      Denmark  2014    52214.537753               95.99\n",
       "1798  Luxembourg  2014   108760.916030               94.67"
      ]
     },
     "execution_count": 46,
     "metadata": {},
     "output_type": "execute_result"
    }
   ],
   "source": [
    "gdp_and_internet_use_2014.nlargest(5,'Internet_Users_Pct')"
   ]
  },
  {
   "cell_type": "markdown",
   "id": "496fdd1a",
   "metadata": {},
   "source": [
    "###28.Create a DataFrame called top_5_internet from the combined DataFrame that has all three years for the 5 countries that had the greatest 2014 internet usage. You should have 15 rows. Check that this is true."
   ]
  },
  {
   "cell_type": "code",
   "execution_count": 47,
   "id": "b54c462b",
   "metadata": {},
   "outputs": [],
   "source": [
    "top_5_internet = gdp_and_internet_use_sub[gdp_and_internet_use_sub['Country'].isin(['Iceland','Bermuda','Norway','Denmark','Luxembourg'])]"
   ]
  },
  {
   "cell_type": "code",
   "execution_count": 49,
   "id": "ccbd5bb3",
   "metadata": {},
   "outputs": [
    {
     "data": {
      "text/html": [
       "<div>\n",
       "<style scoped>\n",
       "    .dataframe tbody tr th:only-of-type {\n",
       "        vertical-align: middle;\n",
       "    }\n",
       "\n",
       "    .dataframe tbody tr th {\n",
       "        vertical-align: top;\n",
       "    }\n",
       "\n",
       "    .dataframe thead th {\n",
       "        text-align: right;\n",
       "    }\n",
       "</style>\n",
       "<table border=\"1\" class=\"dataframe\">\n",
       "  <thead>\n",
       "    <tr style=\"text-align: right;\">\n",
       "      <th></th>\n",
       "      <th>Country</th>\n",
       "      <th>Year</th>\n",
       "      <th>GDP_Per_Capita</th>\n",
       "      <th>Internet_Users_Pct</th>\n",
       "    </tr>\n",
       "  </thead>\n",
       "  <tbody>\n",
       "    <tr>\n",
       "      <th>372</th>\n",
       "      <td>Bermuda</td>\n",
       "      <td>2014</td>\n",
       "      <td>77361.104881</td>\n",
       "      <td>96.800000</td>\n",
       "    </tr>\n",
       "    <tr>\n",
       "      <th>377</th>\n",
       "      <td>Bermuda</td>\n",
       "      <td>2009</td>\n",
       "      <td>89961.982744</td>\n",
       "      <td>83.250000</td>\n",
       "    </tr>\n",
       "    <tr>\n",
       "      <th>382</th>\n",
       "      <td>Bermuda</td>\n",
       "      <td>2004</td>\n",
       "      <td>90195.811033</td>\n",
       "      <td>60.990867</td>\n",
       "    </tr>\n",
       "    <tr>\n",
       "      <th>854</th>\n",
       "      <td>Denmark</td>\n",
       "      <td>2014</td>\n",
       "      <td>52214.537753</td>\n",
       "      <td>95.990000</td>\n",
       "    </tr>\n",
       "    <tr>\n",
       "      <th>859</th>\n",
       "      <td>Denmark</td>\n",
       "      <td>2009</td>\n",
       "      <td>50274.075696</td>\n",
       "      <td>86.840000</td>\n",
       "    </tr>\n",
       "    <tr>\n",
       "      <th>864</th>\n",
       "      <td>Denmark</td>\n",
       "      <td>2004</td>\n",
       "      <td>50607.628971</td>\n",
       "      <td>80.930000</td>\n",
       "    </tr>\n",
       "    <tr>\n",
       "      <th>1381</th>\n",
       "      <td>Iceland</td>\n",
       "      <td>2014</td>\n",
       "      <td>49652.149500</td>\n",
       "      <td>98.160000</td>\n",
       "    </tr>\n",
       "    <tr>\n",
       "      <th>1386</th>\n",
       "      <td>Iceland</td>\n",
       "      <td>2009</td>\n",
       "      <td>48177.084123</td>\n",
       "      <td>93.000000</td>\n",
       "    </tr>\n",
       "    <tr>\n",
       "      <th>1391</th>\n",
       "      <td>Iceland</td>\n",
       "      <td>2004</td>\n",
       "      <td>45145.545658</td>\n",
       "      <td>83.880000</td>\n",
       "    </tr>\n",
       "    <tr>\n",
       "      <th>1798</th>\n",
       "      <td>Luxembourg</td>\n",
       "      <td>2014</td>\n",
       "      <td>108760.916030</td>\n",
       "      <td>94.670000</td>\n",
       "    </tr>\n",
       "    <tr>\n",
       "      <th>1803</th>\n",
       "      <td>Luxembourg</td>\n",
       "      <td>2009</td>\n",
       "      <td>104932.811953</td>\n",
       "      <td>87.310000</td>\n",
       "    </tr>\n",
       "    <tr>\n",
       "      <th>1808</th>\n",
       "      <td>Luxembourg</td>\n",
       "      <td>2004</td>\n",
       "      <td>102708.212547</td>\n",
       "      <td>65.880000</td>\n",
       "    </tr>\n",
       "    <tr>\n",
       "      <th>2296</th>\n",
       "      <td>Norway</td>\n",
       "      <td>2014</td>\n",
       "      <td>62589.373548</td>\n",
       "      <td>96.300000</td>\n",
       "    </tr>\n",
       "    <tr>\n",
       "      <th>2301</th>\n",
       "      <td>Norway</td>\n",
       "      <td>2009</td>\n",
       "      <td>61886.564498</td>\n",
       "      <td>92.080000</td>\n",
       "    </tr>\n",
       "    <tr>\n",
       "      <th>2306</th>\n",
       "      <td>Norway</td>\n",
       "      <td>2004</td>\n",
       "      <td>60893.410993</td>\n",
       "      <td>77.690000</td>\n",
       "    </tr>\n",
       "  </tbody>\n",
       "</table>\n",
       "</div>"
      ],
      "text/plain": [
       "         Country  Year  GDP_Per_Capita  Internet_Users_Pct\n",
       "372      Bermuda  2014    77361.104881           96.800000\n",
       "377      Bermuda  2009    89961.982744           83.250000\n",
       "382      Bermuda  2004    90195.811033           60.990867\n",
       "854      Denmark  2014    52214.537753           95.990000\n",
       "859      Denmark  2009    50274.075696           86.840000\n",
       "864      Denmark  2004    50607.628971           80.930000\n",
       "1381     Iceland  2014    49652.149500           98.160000\n",
       "1386     Iceland  2009    48177.084123           93.000000\n",
       "1391     Iceland  2004    45145.545658           83.880000\n",
       "1798  Luxembourg  2014   108760.916030           94.670000\n",
       "1803  Luxembourg  2009   104932.811953           87.310000\n",
       "1808  Luxembourg  2004   102708.212547           65.880000\n",
       "2296      Norway  2014    62589.373548           96.300000\n",
       "2301      Norway  2009    61886.564498           92.080000\n",
       "2306      Norway  2004    60893.410993           77.690000"
      ]
     },
     "execution_count": 49,
     "metadata": {},
     "output_type": "execute_result"
    }
   ],
   "source": [
    "top_5_internet"
   ]
  },
  {
   "cell_type": "markdown",
   "id": "3f4ca1e6",
   "metadata": {},
   "source": [
    "###29.Create a seaborn FacetGrid to show the internet usage trend across the years 2004, 2009, and 2014 for these 5 countries (those with the highest reported internet use in 2014). Which country had the greatest growth between 2004 and 2014? Bermuda\n"
   ]
  },
  {
   "cell_type": "code",
   "execution_count": 69,
   "id": "d4baba84",
   "metadata": {},
   "outputs": [
    {
     "data": {
      "text/plain": [
       "<seaborn.axisgrid.FacetGrid at 0x20b9d0b0640>"
      ]
     },
     "execution_count": 69,
     "metadata": {},
     "output_type": "execute_result"
    },
    {
     "data": {
      "image/png": "[encoded data removed]",
      "text/plain": [
       "<Figure size 1080x216 with 5 Axes>"
      ]
     },
     "metadata": {
      "needs_background": "light"
     },
     "output_type": "display_data"
    }
   ],
   "source": [
    "top_5_internet_sorted =top_5_internet.sort_values('Year')\n",
    "g = sns.FacetGrid(top_5_internet_sorted, col='Country')\n",
    "g.map(plt.plot,\"Year\",\"Internet_Users_Pct\")"
   ]
  },
  {
   "cell_type": "markdown",
   "id": "65fb6617",
   "metadata": {},
   "source": [
    "###Repeat the steps above to look at the trend for the 5 countries with the lowest 2014 internet usage. Which country has consistently had the least internet use? :\tTimor-Leste"
   ]
  },
  {
   "cell_type": "code",
   "execution_count": 74,
   "id": "261ecf61",
   "metadata": {},
   "outputs": [
    {
     "data": {
      "text/html": [
       "<div>\n",
       "<style scoped>\n",
       "    .dataframe tbody tr th:only-of-type {\n",
       "        vertical-align: middle;\n",
       "    }\n",
       "\n",
       "    .dataframe tbody tr th {\n",
       "        vertical-align: top;\n",
       "    }\n",
       "\n",
       "    .dataframe thead th {\n",
       "        text-align: right;\n",
       "    }\n",
       "</style>\n",
       "<table border=\"1\" class=\"dataframe\">\n",
       "  <thead>\n",
       "    <tr style=\"text-align: right;\">\n",
       "      <th></th>\n",
       "      <th>Country</th>\n",
       "      <th>Year</th>\n",
       "      <th>GDP_Per_Capita</th>\n",
       "      <th>Internet_Users_Pct</th>\n",
       "    </tr>\n",
       "  </thead>\n",
       "  <tbody>\n",
       "    <tr>\n",
       "      <th>3087</th>\n",
       "      <td>Timor-Leste</td>\n",
       "      <td>2014</td>\n",
       "      <td>3264.568070</td>\n",
       "      <td>1.14</td>\n",
       "    </tr>\n",
       "    <tr>\n",
       "      <th>540</th>\n",
       "      <td>Burundi</td>\n",
       "      <td>2014</td>\n",
       "      <td>886.235777</td>\n",
       "      <td>1.38</td>\n",
       "    </tr>\n",
       "    <tr>\n",
       "      <th>1261</th>\n",
       "      <td>Guinea</td>\n",
       "      <td>2014</td>\n",
       "      <td>2061.760973</td>\n",
       "      <td>1.72</td>\n",
       "    </tr>\n",
       "    <tr>\n",
       "      <th>2256</th>\n",
       "      <td>Niger</td>\n",
       "      <td>2014</td>\n",
       "      <td>1127.615541</td>\n",
       "      <td>1.95</td>\n",
       "    </tr>\n",
       "    <tr>\n",
       "      <th>2122</th>\n",
       "      <td>Myanmar</td>\n",
       "      <td>2014</td>\n",
       "      <td>4020.037369</td>\n",
       "      <td>2.10</td>\n",
       "    </tr>\n",
       "  </tbody>\n",
       "</table>\n",
       "</div>"
      ],
      "text/plain": [
       "          Country  Year  GDP_Per_Capita  Internet_Users_Pct\n",
       "3087  Timor-Leste  2014     3264.568070                1.14\n",
       "540       Burundi  2014      886.235777                1.38\n",
       "1261       Guinea  2014     2061.760973                1.72\n",
       "2256        Niger  2014     1127.615541                1.95\n",
       "2122      Myanmar  2014     4020.037369                2.10"
      ]
     },
     "execution_count": 74,
     "metadata": {},
     "output_type": "execute_result"
    }
   ],
   "source": [
    "gdp_and_internet_use_2014.nsmallest(5,'Internet_Users_Pct')"
   ]
  },
  {
   "cell_type": "code",
   "execution_count": 71,
   "id": "6e9154a6",
   "metadata": {},
   "outputs": [],
   "source": [
    "bottom_5_internet = gdp_and_internet_use_sub[gdp_and_internet_use_sub['Country'].isin(['Timor-Leste','Burundi','Guinea','Niger','Myanmar'])]"
   ]
  },
  {
   "cell_type": "code",
   "execution_count": 72,
   "id": "ab309768",
   "metadata": {},
   "outputs": [
    {
     "data": {
      "text/html": [
       "<div>\n",
       "<style scoped>\n",
       "    .dataframe tbody tr th:only-of-type {\n",
       "        vertical-align: middle;\n",
       "    }\n",
       "\n",
       "    .dataframe tbody tr th {\n",
       "        vertical-align: top;\n",
       "    }\n",
       "\n",
       "    .dataframe thead th {\n",
       "        text-align: right;\n",
       "    }\n",
       "</style>\n",
       "<table border=\"1\" class=\"dataframe\">\n",
       "  <thead>\n",
       "    <tr style=\"text-align: right;\">\n",
       "      <th></th>\n",
       "      <th>Country</th>\n",
       "      <th>Year</th>\n",
       "      <th>GDP_Per_Capita</th>\n",
       "      <th>Internet_Users_Pct</th>\n",
       "    </tr>\n",
       "  </thead>\n",
       "  <tbody>\n",
       "    <tr>\n",
       "      <th>540</th>\n",
       "      <td>Burundi</td>\n",
       "      <td>2014</td>\n",
       "      <td>886.235777</td>\n",
       "      <td>1.380000</td>\n",
       "    </tr>\n",
       "    <tr>\n",
       "      <th>545</th>\n",
       "      <td>Burundi</td>\n",
       "      <td>2009</td>\n",
       "      <td>831.564131</td>\n",
       "      <td>0.900000</td>\n",
       "    </tr>\n",
       "    <tr>\n",
       "      <th>550</th>\n",
       "      <td>Burundi</td>\n",
       "      <td>2004</td>\n",
       "      <td>817.460585</td>\n",
       "      <td>0.349060</td>\n",
       "    </tr>\n",
       "    <tr>\n",
       "      <th>1261</th>\n",
       "      <td>Guinea</td>\n",
       "      <td>2014</td>\n",
       "      <td>2061.760973</td>\n",
       "      <td>1.720000</td>\n",
       "    </tr>\n",
       "    <tr>\n",
       "      <th>1266</th>\n",
       "      <td>Guinea</td>\n",
       "      <td>2009</td>\n",
       "      <td>1825.576637</td>\n",
       "      <td>0.940000</td>\n",
       "    </tr>\n",
       "    <tr>\n",
       "      <th>1271</th>\n",
       "      <td>Guinea</td>\n",
       "      <td>2004</td>\n",
       "      <td>1778.079082</td>\n",
       "      <td>0.508819</td>\n",
       "    </tr>\n",
       "    <tr>\n",
       "      <th>2122</th>\n",
       "      <td>Myanmar</td>\n",
       "      <td>2014</td>\n",
       "      <td>4020.037369</td>\n",
       "      <td>2.100000</td>\n",
       "    </tr>\n",
       "    <tr>\n",
       "      <th>2127</th>\n",
       "      <td>Myanmar</td>\n",
       "      <td>2009</td>\n",
       "      <td>2874.780227</td>\n",
       "      <td>0.220000</td>\n",
       "    </tr>\n",
       "    <tr>\n",
       "      <th>2132</th>\n",
       "      <td>Myanmar</td>\n",
       "      <td>2004</td>\n",
       "      <td>1696.881760</td>\n",
       "      <td>0.024337</td>\n",
       "    </tr>\n",
       "    <tr>\n",
       "      <th>2256</th>\n",
       "      <td>Niger</td>\n",
       "      <td>2014</td>\n",
       "      <td>1127.615541</td>\n",
       "      <td>1.950000</td>\n",
       "    </tr>\n",
       "    <tr>\n",
       "      <th>2261</th>\n",
       "      <td>Niger</td>\n",
       "      <td>2009</td>\n",
       "      <td>992.409977</td>\n",
       "      <td>0.760000</td>\n",
       "    </tr>\n",
       "    <tr>\n",
       "      <th>2266</th>\n",
       "      <td>Niger</td>\n",
       "      <td>2004</td>\n",
       "      <td>929.883920</td>\n",
       "      <td>0.189934</td>\n",
       "    </tr>\n",
       "    <tr>\n",
       "      <th>3087</th>\n",
       "      <td>Timor-Leste</td>\n",
       "      <td>2014</td>\n",
       "      <td>3264.568070</td>\n",
       "      <td>1.140000</td>\n",
       "    </tr>\n",
       "    <tr>\n",
       "      <th>3092</th>\n",
       "      <td>Timor-Leste</td>\n",
       "      <td>2009</td>\n",
       "      <td>2724.770973</td>\n",
       "      <td>0.185252</td>\n",
       "    </tr>\n",
       "  </tbody>\n",
       "</table>\n",
       "</div>"
      ],
      "text/plain": [
       "          Country  Year  GDP_Per_Capita  Internet_Users_Pct\n",
       "540       Burundi  2014      886.235777            1.380000\n",
       "545       Burundi  2009      831.564131            0.900000\n",
       "550       Burundi  2004      817.460585            0.349060\n",
       "1261       Guinea  2014     2061.760973            1.720000\n",
       "1266       Guinea  2009     1825.576637            0.940000\n",
       "1271       Guinea  2004     1778.079082            0.508819\n",
       "2122      Myanmar  2014     4020.037369            2.100000\n",
       "2127      Myanmar  2009     2874.780227            0.220000\n",
       "2132      Myanmar  2004     1696.881760            0.024337\n",
       "2256        Niger  2014     1127.615541            1.950000\n",
       "2261        Niger  2009      992.409977            0.760000\n",
       "2266        Niger  2004      929.883920            0.189934\n",
       "3087  Timor-Leste  2014     3264.568070            1.140000\n",
       "3092  Timor-Leste  2009     2724.770973            0.185252"
      ]
     },
     "execution_count": 72,
     "metadata": {},
     "output_type": "execute_result"
    }
   ],
   "source": [
    "bottom_5_internet"
   ]
  },
  {
   "cell_type": "code",
   "execution_count": 73,
   "id": "6fefe6db",
   "metadata": {
    "scrolled": true
   },
   "outputs": [
    {
     "data": {
      "text/plain": [
       "<seaborn.axisgrid.FacetGrid at 0x20b9d233760>"
      ]
     },
     "execution_count": 73,
     "metadata": {},
     "output_type": "execute_result"
    },
    {
     "data": {
      "image/png": "[encoded data removed]",
      "text/plain": [
       "<Figure size 1080x216 with 5 Axes>"
      ]
     },
     "metadata": {
      "needs_background": "light"
     },
     "output_type": "display_data"
    }
   ],
   "source": [
    "bottom_5_internet_sorted =bottom_5_internet.sort_values('Year')\n",
    "g = sns.FacetGrid(bottom_5_internet_sorted, col='Country')\n",
    "g.map(plt.plot,\"Year\",\"Internet_Users_Pct\")"
   ]
  },
  {
   "cell_type": "markdown",
   "id": "52613d56",
   "metadata": {},
   "source": [
    "###31.Find the top 5 countries for 2014 in terms of GDP per capita; create a DataFrame to look at 10-year trends (use 2004, 2009, 2014 to look at the 10-year trend) in gdp per capita for the 5 countries with the highest 2014 GDP per capita. Use a seaborn facet grid for this."
   ]
  },
  {
   "cell_type": "code",
   "execution_count": 75,
   "id": "bba5706a",
   "metadata": {},
   "outputs": [
    {
     "data": {
      "text/html": [
       "<div>\n",
       "<style scoped>\n",
       "    .dataframe tbody tr th:only-of-type {\n",
       "        vertical-align: middle;\n",
       "    }\n",
       "\n",
       "    .dataframe tbody tr th {\n",
       "        vertical-align: top;\n",
       "    }\n",
       "\n",
       "    .dataframe thead th {\n",
       "        text-align: right;\n",
       "    }\n",
       "</style>\n",
       "<table border=\"1\" class=\"dataframe\">\n",
       "  <thead>\n",
       "    <tr style=\"text-align: right;\">\n",
       "      <th></th>\n",
       "      <th>Country</th>\n",
       "      <th>Year</th>\n",
       "      <th>GDP_Per_Capita</th>\n",
       "      <th>Internet_Users_Pct</th>\n",
       "    </tr>\n",
       "  </thead>\n",
       "  <tbody>\n",
       "    <tr>\n",
       "      <th>1798</th>\n",
       "      <td>Luxembourg</td>\n",
       "      <td>2014</td>\n",
       "      <td>108760.916030</td>\n",
       "      <td>94.67</td>\n",
       "    </tr>\n",
       "    <tr>\n",
       "      <th>2542</th>\n",
       "      <td>Qatar</td>\n",
       "      <td>2014</td>\n",
       "      <td>95578.416973</td>\n",
       "      <td>91.49</td>\n",
       "    </tr>\n",
       "    <tr>\n",
       "      <th>2751</th>\n",
       "      <td>Singapore</td>\n",
       "      <td>2014</td>\n",
       "      <td>87808.663157</td>\n",
       "      <td>82.00</td>\n",
       "    </tr>\n",
       "    <tr>\n",
       "      <th>372</th>\n",
       "      <td>Bermuda</td>\n",
       "      <td>2014</td>\n",
       "      <td>77361.104881</td>\n",
       "      <td>96.80</td>\n",
       "    </tr>\n",
       "    <tr>\n",
       "      <th>627</th>\n",
       "      <td>Cayman Islands</td>\n",
       "      <td>2014</td>\n",
       "      <td>66207.447230</td>\n",
       "      <td>74.10</td>\n",
       "    </tr>\n",
       "  </tbody>\n",
       "</table>\n",
       "</div>"
      ],
      "text/plain": [
       "             Country  Year  GDP_Per_Capita  Internet_Users_Pct\n",
       "1798      Luxembourg  2014   108760.916030               94.67\n",
       "2542           Qatar  2014    95578.416973               91.49\n",
       "2751       Singapore  2014    87808.663157               82.00\n",
       "372          Bermuda  2014    77361.104881               96.80\n",
       "627   Cayman Islands  2014    66207.447230               74.10"
      ]
     },
     "execution_count": 75,
     "metadata": {},
     "output_type": "execute_result"
    }
   ],
   "source": [
    "gdp_and_internet_use_2014.nlargest(5,'GDP_Per_Capita')"
   ]
  },
  {
   "cell_type": "code",
   "execution_count": 79,
   "id": "1016798f",
   "metadata": {},
   "outputs": [],
   "source": [
    "top_5_gdp = gdp_and_internet_use_sub[gdp_and_internet_use_sub['Country'].isin(['Qatar','Singapore','Bermuda','Cayman Islands','Luxembourg'])]"
   ]
  },
  {
   "cell_type": "code",
   "execution_count": 81,
   "id": "d448d848",
   "metadata": {},
   "outputs": [],
   "source": [
    "top_5_gdp_sorted =top_5_gdp.sort_values('Year')"
   ]
  },
  {
   "cell_type": "code",
   "execution_count": 82,
   "id": "b964cb1d",
   "metadata": {},
   "outputs": [
    {
     "data": {
      "text/html": [
       "<div>\n",
       "<style scoped>\n",
       "    .dataframe tbody tr th:only-of-type {\n",
       "        vertical-align: middle;\n",
       "    }\n",
       "\n",
       "    .dataframe tbody tr th {\n",
       "        vertical-align: top;\n",
       "    }\n",
       "\n",
       "    .dataframe thead th {\n",
       "        text-align: right;\n",
       "    }\n",
       "</style>\n",
       "<table border=\"1\" class=\"dataframe\">\n",
       "  <thead>\n",
       "    <tr style=\"text-align: right;\">\n",
       "      <th></th>\n",
       "      <th>Country</th>\n",
       "      <th>Year</th>\n",
       "      <th>GDP_Per_Capita</th>\n",
       "      <th>Internet_Users_Pct</th>\n",
       "    </tr>\n",
       "  </thead>\n",
       "  <tbody>\n",
       "    <tr>\n",
       "      <th>382</th>\n",
       "      <td>Bermuda</td>\n",
       "      <td>2004</td>\n",
       "      <td>90195.811033</td>\n",
       "      <td>60.990867</td>\n",
       "    </tr>\n",
       "    <tr>\n",
       "      <th>1808</th>\n",
       "      <td>Luxembourg</td>\n",
       "      <td>2004</td>\n",
       "      <td>102708.212547</td>\n",
       "      <td>65.880000</td>\n",
       "    </tr>\n",
       "    <tr>\n",
       "      <th>2552</th>\n",
       "      <td>Qatar</td>\n",
       "      <td>2004</td>\n",
       "      <td>93748.301216</td>\n",
       "      <td>20.701648</td>\n",
       "    </tr>\n",
       "    <tr>\n",
       "      <th>2761</th>\n",
       "      <td>Singapore</td>\n",
       "      <td>2004</td>\n",
       "      <td>63901.716368</td>\n",
       "      <td>62.000000</td>\n",
       "    </tr>\n",
       "    <tr>\n",
       "      <th>377</th>\n",
       "      <td>Bermuda</td>\n",
       "      <td>2009</td>\n",
       "      <td>89961.982744</td>\n",
       "      <td>83.250000</td>\n",
       "    </tr>\n",
       "    <tr>\n",
       "      <th>632</th>\n",
       "      <td>Cayman Islands</td>\n",
       "      <td>2009</td>\n",
       "      <td>70300.334857</td>\n",
       "      <td>64.500000</td>\n",
       "    </tr>\n",
       "    <tr>\n",
       "      <th>1803</th>\n",
       "      <td>Luxembourg</td>\n",
       "      <td>2009</td>\n",
       "      <td>104932.811953</td>\n",
       "      <td>87.310000</td>\n",
       "    </tr>\n",
       "    <tr>\n",
       "      <th>2547</th>\n",
       "      <td>Qatar</td>\n",
       "      <td>2009</td>\n",
       "      <td>89954.519993</td>\n",
       "      <td>53.100000</td>\n",
       "    </tr>\n",
       "    <tr>\n",
       "      <th>2756</th>\n",
       "      <td>Singapore</td>\n",
       "      <td>2009</td>\n",
       "      <td>69466.581746</td>\n",
       "      <td>69.000000</td>\n",
       "    </tr>\n",
       "    <tr>\n",
       "      <th>372</th>\n",
       "      <td>Bermuda</td>\n",
       "      <td>2014</td>\n",
       "      <td>77361.104881</td>\n",
       "      <td>96.800000</td>\n",
       "    </tr>\n",
       "    <tr>\n",
       "      <th>627</th>\n",
       "      <td>Cayman Islands</td>\n",
       "      <td>2014</td>\n",
       "      <td>66207.447230</td>\n",
       "      <td>74.100000</td>\n",
       "    </tr>\n",
       "    <tr>\n",
       "      <th>1798</th>\n",
       "      <td>Luxembourg</td>\n",
       "      <td>2014</td>\n",
       "      <td>108760.916030</td>\n",
       "      <td>94.670000</td>\n",
       "    </tr>\n",
       "    <tr>\n",
       "      <th>2542</th>\n",
       "      <td>Qatar</td>\n",
       "      <td>2014</td>\n",
       "      <td>95578.416973</td>\n",
       "      <td>91.490000</td>\n",
       "    </tr>\n",
       "    <tr>\n",
       "      <th>2751</th>\n",
       "      <td>Singapore</td>\n",
       "      <td>2014</td>\n",
       "      <td>87808.663157</td>\n",
       "      <td>82.000000</td>\n",
       "    </tr>\n",
       "  </tbody>\n",
       "</table>\n",
       "</div>"
      ],
      "text/plain": [
       "             Country  Year  GDP_Per_Capita  Internet_Users_Pct\n",
       "382          Bermuda  2004    90195.811033           60.990867\n",
       "1808      Luxembourg  2004   102708.212547           65.880000\n",
       "2552           Qatar  2004    93748.301216           20.701648\n",
       "2761       Singapore  2004    63901.716368           62.000000\n",
       "377          Bermuda  2009    89961.982744           83.250000\n",
       "632   Cayman Islands  2009    70300.334857           64.500000\n",
       "1803      Luxembourg  2009   104932.811953           87.310000\n",
       "2547           Qatar  2009    89954.519993           53.100000\n",
       "2756       Singapore  2009    69466.581746           69.000000\n",
       "372          Bermuda  2014    77361.104881           96.800000\n",
       "627   Cayman Islands  2014    66207.447230           74.100000\n",
       "1798      Luxembourg  2014   108760.916030           94.670000\n",
       "2542           Qatar  2014    95578.416973           91.490000\n",
       "2751       Singapore  2014    87808.663157           82.000000"
      ]
     },
     "execution_count": 82,
     "metadata": {},
     "output_type": "execute_result"
    }
   ],
   "source": [
    "top_5_gdp_sorted"
   ]
  },
  {
   "cell_type": "code",
   "execution_count": 98,
   "id": "d342bb56",
   "metadata": {},
   "outputs": [
    {
     "data": {
      "text/plain": [
       "<seaborn.axisgrid.FacetGrid at 0x20b9ea5f550>"
      ]
     },
     "execution_count": 98,
     "metadata": {},
     "output_type": "execute_result"
    },
    {
     "data": {
      "image/png": "[encoded data removed]",
      "text/plain": [
       "<Figure size 1080x216 with 5 Axes>"
      ]
     },
     "metadata": {
      "needs_background": "light"
     },
     "output_type": "display_data"
    }
   ],
   "source": [
    "g = sns.FacetGrid(top_5_gdp_sorted, col='Country')\n",
    "g.map(plt.plot,\"Year\",\"Internet_Users_Pct\")"
   ]
  },
  {
   "cell_type": "code",
   "execution_count": 84,
   "id": "29c8efa4",
   "metadata": {},
   "outputs": [
    {
     "data": {
      "text/html": [
       "<div>\n",
       "<style scoped>\n",
       "    .dataframe tbody tr th:only-of-type {\n",
       "        vertical-align: middle;\n",
       "    }\n",
       "\n",
       "    .dataframe tbody tr th {\n",
       "        vertical-align: top;\n",
       "    }\n",
       "\n",
       "    .dataframe thead th {\n",
       "        text-align: right;\n",
       "    }\n",
       "</style>\n",
       "<table border=\"1\" class=\"dataframe\">\n",
       "  <thead>\n",
       "    <tr style=\"text-align: right;\">\n",
       "      <th></th>\n",
       "      <th>Country</th>\n",
       "      <th>Year</th>\n",
       "      <th>GDP_Per_Capita</th>\n",
       "      <th>Internet_Users_Pct</th>\n",
       "    </tr>\n",
       "  </thead>\n",
       "  <tbody>\n",
       "    <tr>\n",
       "      <th>540</th>\n",
       "      <td>Burundi</td>\n",
       "      <td>2014</td>\n",
       "      <td>886.235777</td>\n",
       "      <td>1.38</td>\n",
       "    </tr>\n",
       "    <tr>\n",
       "      <th>1842</th>\n",
       "      <td>Malawi</td>\n",
       "      <td>2014</td>\n",
       "      <td>1027.208496</td>\n",
       "      <td>5.83</td>\n",
       "    </tr>\n",
       "    <tr>\n",
       "      <th>2256</th>\n",
       "      <td>Niger</td>\n",
       "      <td>2014</td>\n",
       "      <td>1127.615541</td>\n",
       "      <td>1.95</td>\n",
       "    </tr>\n",
       "    <tr>\n",
       "      <th>2102</th>\n",
       "      <td>Mozambique</td>\n",
       "      <td>2014</td>\n",
       "      <td>1217.090210</td>\n",
       "      <td>5.94</td>\n",
       "    </tr>\n",
       "    <tr>\n",
       "      <th>3098</th>\n",
       "      <td>Togo</td>\n",
       "      <td>2014</td>\n",
       "      <td>1404.132938</td>\n",
       "      <td>5.70</td>\n",
       "    </tr>\n",
       "  </tbody>\n",
       "</table>\n",
       "</div>"
      ],
      "text/plain": [
       "         Country  Year  GDP_Per_Capita  Internet_Users_Pct\n",
       "540      Burundi  2014      886.235777                1.38\n",
       "1842      Malawi  2014     1027.208496                5.83\n",
       "2256       Niger  2014     1127.615541                1.95\n",
       "2102  Mozambique  2014     1217.090210                5.94\n",
       "3098        Togo  2014     1404.132938                5.70"
      ]
     },
     "execution_count": 84,
     "metadata": {},
     "output_type": "execute_result"
    }
   ],
   "source": [
    "gdp_and_internet_use_2014.nsmallest(5,'GDP_Per_Capita')"
   ]
  },
  {
   "cell_type": "code",
   "execution_count": 85,
   "id": "79928e87",
   "metadata": {},
   "outputs": [],
   "source": [
    "bottom_5_gdp = gdp_and_internet_use_sub[gdp_and_internet_use_sub['Country'].isin(['Burundi','Malawi','Niger\t','Mozambique','Togo'])]"
   ]
  },
  {
   "cell_type": "code",
   "execution_count": 86,
   "id": "3f9fed0b",
   "metadata": {},
   "outputs": [],
   "source": [
    "bottom_5_gdp_sorted =bottom_5_gdp.sort_values('Year')"
   ]
  },
  {
   "cell_type": "code",
   "execution_count": 87,
   "id": "9ed83346",
   "metadata": {},
   "outputs": [
    {
     "data": {
      "text/html": [
       "<div>\n",
       "<style scoped>\n",
       "    .dataframe tbody tr th:only-of-type {\n",
       "        vertical-align: middle;\n",
       "    }\n",
       "\n",
       "    .dataframe tbody tr th {\n",
       "        vertical-align: top;\n",
       "    }\n",
       "\n",
       "    .dataframe thead th {\n",
       "        text-align: right;\n",
       "    }\n",
       "</style>\n",
       "<table border=\"1\" class=\"dataframe\">\n",
       "  <thead>\n",
       "    <tr style=\"text-align: right;\">\n",
       "      <th></th>\n",
       "      <th>Country</th>\n",
       "      <th>Year</th>\n",
       "      <th>GDP_Per_Capita</th>\n",
       "      <th>Internet_Users_Pct</th>\n",
       "    </tr>\n",
       "  </thead>\n",
       "  <tbody>\n",
       "    <tr>\n",
       "      <th>550</th>\n",
       "      <td>Burundi</td>\n",
       "      <td>2004</td>\n",
       "      <td>817.460585</td>\n",
       "      <td>0.349060</td>\n",
       "    </tr>\n",
       "    <tr>\n",
       "      <th>1852</th>\n",
       "      <td>Malawi</td>\n",
       "      <td>2004</td>\n",
       "      <td>775.346132</td>\n",
       "      <td>0.347505</td>\n",
       "    </tr>\n",
       "    <tr>\n",
       "      <th>2112</th>\n",
       "      <td>Mozambique</td>\n",
       "      <td>2004</td>\n",
       "      <td>792.727155</td>\n",
       "      <td>0.679448</td>\n",
       "    </tr>\n",
       "    <tr>\n",
       "      <th>3108</th>\n",
       "      <td>Togo</td>\n",
       "      <td>2004</td>\n",
       "      <td>1276.676272</td>\n",
       "      <td>1.500000</td>\n",
       "    </tr>\n",
       "    <tr>\n",
       "      <th>545</th>\n",
       "      <td>Burundi</td>\n",
       "      <td>2009</td>\n",
       "      <td>831.564131</td>\n",
       "      <td>0.900000</td>\n",
       "    </tr>\n",
       "    <tr>\n",
       "      <th>1847</th>\n",
       "      <td>Malawi</td>\n",
       "      <td>2009</td>\n",
       "      <td>932.867635</td>\n",
       "      <td>1.070000</td>\n",
       "    </tr>\n",
       "    <tr>\n",
       "      <th>2107</th>\n",
       "      <td>Mozambique</td>\n",
       "      <td>2009</td>\n",
       "      <td>991.323181</td>\n",
       "      <td>2.680000</td>\n",
       "    </tr>\n",
       "    <tr>\n",
       "      <th>3103</th>\n",
       "      <td>Togo</td>\n",
       "      <td>2009</td>\n",
       "      <td>1186.114587</td>\n",
       "      <td>2.600000</td>\n",
       "    </tr>\n",
       "    <tr>\n",
       "      <th>540</th>\n",
       "      <td>Burundi</td>\n",
       "      <td>2014</td>\n",
       "      <td>886.235777</td>\n",
       "      <td>1.380000</td>\n",
       "    </tr>\n",
       "    <tr>\n",
       "      <th>1842</th>\n",
       "      <td>Malawi</td>\n",
       "      <td>2014</td>\n",
       "      <td>1027.208496</td>\n",
       "      <td>5.830000</td>\n",
       "    </tr>\n",
       "    <tr>\n",
       "      <th>2102</th>\n",
       "      <td>Mozambique</td>\n",
       "      <td>2014</td>\n",
       "      <td>1217.090210</td>\n",
       "      <td>5.940000</td>\n",
       "    </tr>\n",
       "    <tr>\n",
       "      <th>3098</th>\n",
       "      <td>Togo</td>\n",
       "      <td>2014</td>\n",
       "      <td>1404.132938</td>\n",
       "      <td>5.700000</td>\n",
       "    </tr>\n",
       "  </tbody>\n",
       "</table>\n",
       "</div>"
      ],
      "text/plain": [
       "         Country  Year  GDP_Per_Capita  Internet_Users_Pct\n",
       "550      Burundi  2004      817.460585            0.349060\n",
       "1852      Malawi  2004      775.346132            0.347505\n",
       "2112  Mozambique  2004      792.727155            0.679448\n",
       "3108        Togo  2004     1276.676272            1.500000\n",
       "545      Burundi  2009      831.564131            0.900000\n",
       "1847      Malawi  2009      932.867635            1.070000\n",
       "2107  Mozambique  2009      991.323181            2.680000\n",
       "3103        Togo  2009     1186.114587            2.600000\n",
       "540      Burundi  2014      886.235777            1.380000\n",
       "1842      Malawi  2014     1027.208496            5.830000\n",
       "2102  Mozambique  2014     1217.090210            5.940000\n",
       "3098        Togo  2014     1404.132938            5.700000"
      ]
     },
     "execution_count": 87,
     "metadata": {},
     "output_type": "execute_result"
    }
   ],
   "source": [
    "bottom_5_gdp_sorted"
   ]
  },
  {
   "cell_type": "code",
   "execution_count": 88,
   "id": "10a92673",
   "metadata": {},
   "outputs": [
    {
     "data": {
      "text/plain": [
       "<seaborn.axisgrid.FacetGrid at 0x20b9e5726d0>"
      ]
     },
     "execution_count": 88,
     "metadata": {},
     "output_type": "execute_result"
    },
    {
     "data": {
      "image/png": "[encoded data removed]",
      "text/plain": [
       "<Figure size 864x216 with 4 Axes>"
      ]
     },
     "metadata": {
      "needs_background": "light"
     },
     "output_type": "display_data"
    }
   ],
   "source": [
    "g = sns.FacetGrid(bottom_5_gdp_sorted, col='Country')\n",
    "g.map(plt.plot,\"Year\",\"Internet_Users_Pct\")"
   ]
  },
  {
   "cell_type": "code",
   "execution_count": 93,
   "id": "1b397481",
   "metadata": {},
   "outputs": [
    {
     "data": {
      "text/plain": [
       "<AxesSubplot:xlabel='Year'>"
      ]
     },
     "execution_count": 93,
     "metadata": {},
     "output_type": "execute_result"
    },
    {
     "data": {
      "image/png": "[encoded data removed]",
      "text/plain": [
       "<Figure size 432x288 with 1 Axes>"
      ]
     },
     "metadata": {
      "needs_background": "light"
     },
     "output_type": "display_data"
    }
   ],
   "source": [
    "gdp_and_internet_use_2014.plot('Year',\"GDP_Per_Capita\")"
   ]
  },
  {
   "cell_type": "code",
   "execution_count": 94,
   "id": "93071362",
   "metadata": {},
   "outputs": [
    {
     "data": {
      "text/plain": [
       "<AxesSubplot:xlabel='Year'>"
      ]
     },
     "execution_count": 94,
     "metadata": {},
     "output_type": "execute_result"
    },
    {
     "data": {
      "image/png": "[encoded data removed]",
      "text/plain": [
       "<Figure size 432x288 with 1 Axes>"
      ]
     },
     "metadata": {
      "needs_background": "light"
     },
     "output_type": "display_data"
    }
   ],
   "source": [
    "gdp_and_internet_use_2014.plot('Year',\"Internet_Users_Pct\")"
   ]
  },
  {
   "cell_type": "markdown",
   "id": "f603ec99",
   "metadata": {},
   "source": [
    "##25.Look at the distribution of gdp per capita values for 2014. Is it unimodal?:**It's Unimodal**"
   ]
  },
  {
   "cell_type": "markdown",
   "id": "bc913a92",
   "metadata": {},
   "source": [
    "##26.Look at the distribution of Internet Use for 2014. Is it unimodal?:**It's not Unimodal**"
   ]
  },
  {
   "cell_type": "markdown",
   "id": "1542bcbc",
   "metadata": {},
   "source": [
    "###24.Are there differences across years? What do the plots tell you about any relationship between these two variables? Enter your observations as a markdown cell.:"
   ]
  },
  {
   "cell_type": "code",
   "execution_count": null,
   "id": "854ba7e2",
   "metadata": {},
   "outputs": [],
   "source": []
  }
 ],
 "metadata": {
  "kernelspec": {
   "display_name": "Python 3 (ipykernel)",
   "language": "python",
   "name": "python3"
  },
  "language_info": {
   "codemirror_mode": {
    "name": "ipython",
    "version": 3
   },
   "file_extension": ".py",
   "mimetype": "text/x-python",
   "name": "python",
   "nbconvert_exporter": "python",
   "pygments_lexer": "ipython3",
   "version": "3.9.7"
  }
 },
 "nbformat": 4,
 "nbformat_minor": 5
}

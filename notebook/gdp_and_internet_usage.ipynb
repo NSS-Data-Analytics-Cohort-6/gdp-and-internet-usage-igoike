{
 "cells": [
  {
   "cell_type": "code",
   "execution_count": 1,
   "id": "b00e273d",
   "metadata": {},
   "outputs": [],
   "source": [
    "import pandas as pd\n",
    "import numpy as np\n",
    "import matplotlib.pyplot as plt\n",
    "import seaborn as sns"
   ]
  },
  {
   "cell_type": "code",
   "execution_count": 2,
   "id": "5630fa5b",
   "metadata": {},
   "outputs": [],
   "source": [
    "%matplotlib inline"
   ]
  },
  {
   "cell_type": "markdown",
   "id": "db8475c5",
   "metadata": {},
   "source": [
    "###5.Using the pandas read_csv() method, read the GDP dataset into your notebook as a DataFrame called gdp_df. Take a look at the first 6 rows."
   ]
  },
  {
   "cell_type": "code",
   "execution_count": 3,
   "id": "df8de206",
   "metadata": {},
   "outputs": [],
   "source": [
    "gdp_df=pd.read_csv(\"C:/Users/iulia/Documents/NSS/projects/gdp-and-internet-usage-igoike/data/gdp_percapita.csv\")"
   ]
  },
  {
   "cell_type": "code",
   "execution_count": 4,
   "id": "b76ee3da",
   "metadata": {},
   "outputs": [],
   "source": [
    "internet_df=pd.read_csv(\"C:/Users/iulia/Documents/NSS/projects/gdp-and-internet-usage-igoike/data/internet_use.csv\",nrows=4496)"
   ]
  },
  {
   "cell_type": "markdown",
   "id": "7b9d72e9",
   "metadata": {},
   "source": [
    "###6.Repeat for the internet use dataset. Call this DataFrame internet_df. Take a look at the first six rows."
   ]
  },
  {
   "cell_type": "code",
   "execution_count": 5,
   "id": "41cfa45e",
   "metadata": {},
   "outputs": [
    {
     "name": "stdout",
     "output_type": "stream",
     "text": [
      "  Country or Area  Year        Value  Value Footnotes\n",
      "0     Afghanistan  2019  2065.036398              NaN\n",
      "1     Afghanistan  2018  2033.779002              NaN\n",
      "2     Afghanistan  2017  2058.383832              NaN\n",
      "3     Afghanistan  2016  2057.062164              NaN\n",
      "4     Afghanistan  2015  2068.265904              NaN\n",
      "5     Afghanistan  2014  2102.385234              NaN\n"
     ]
    }
   ],
   "source": [
    "print(gdp_df.head(n=6))"
   ]
  },
  {
   "cell_type": "code",
   "execution_count": 6,
   "id": "a7b83095",
   "metadata": {},
   "outputs": [
    {
     "name": "stdout",
     "output_type": "stream",
     "text": [
      "  Country or Area  Year     Value  Value Footnotes\n",
      "0     Afghanistan  2014  6.390000              NaN\n",
      "1     Afghanistan  2013  5.900000              NaN\n",
      "2     Afghanistan  2012  5.454545              NaN\n",
      "3     Afghanistan  2011  5.000000              NaN\n",
      "4     Afghanistan  2010  4.000000              NaN\n",
      "5     Afghanistan  2009  3.550000              NaN\n"
     ]
    }
   ],
   "source": [
    "print(internet_df.head(n=6))"
   ]
  },
  {
   "cell_type": "markdown",
   "id": "efe1b3b3",
   "metadata": {},
   "source": [
    "###8.Take a look at the datatypes for the columns in each DataFrame."
   ]
  },
  {
   "cell_type": "code",
   "execution_count": 7,
   "id": "c3b9929c",
   "metadata": {},
   "outputs": [
    {
     "data": {
      "text/plain": [
       "Country or Area     object\n",
       "Year                object\n",
       "Value              float64\n",
       "Value Footnotes    float64\n",
       "dtype: object"
      ]
     },
     "execution_count": 7,
     "metadata": {},
     "output_type": "execute_result"
    }
   ],
   "source": [
    "gdp_df.dtypes"
   ]
  },
  {
   "cell_type": "code",
   "execution_count": 8,
   "id": "302df2f2",
   "metadata": {},
   "outputs": [
    {
     "data": {
      "text/plain": [
       "Country or Area     object\n",
       "Year                object\n",
       "Value              float64\n",
       "Value Footnotes    float64\n",
       "dtype: object"
      ]
     },
     "execution_count": 8,
     "metadata": {},
     "output_type": "execute_result"
    }
   ],
   "source": [
    "internet_df.dtypes"
   ]
  },
  {
   "cell_type": "markdown",
   "id": "36f78433",
   "metadata": {},
   "source": [
    "###7.Look at the shape of each DataFrame - how many rows? How many columns?"
   ]
  },
  {
   "cell_type": "code",
   "execution_count": 9,
   "id": "d6b76ad7",
   "metadata": {},
   "outputs": [
    {
     "name": "stdout",
     "output_type": "stream",
     "text": [
      "     Country or Area                                      Year        Value  \\\n",
      "0        Afghanistan                                      2019  2065.036398   \n",
      "1        Afghanistan                                      2018  2033.779002   \n",
      "2        Afghanistan                                      2017  2058.383832   \n",
      "3        Afghanistan                                      2016  2057.062164   \n",
      "4        Afghanistan                                      2015  2068.265904   \n",
      "...              ...                                       ...          ...   \n",
      "6865        Zimbabwe                                      1992  3054.889178   \n",
      "6866        Zimbabwe                                      1991  3426.598094   \n",
      "6867        Zimbabwe                                      1990  3324.348171   \n",
      "6868   footnoteSeqID                                  Footnote          NaN   \n",
      "6869               2  Excludes South Sudan after July 9, 2011.          NaN   \n",
      "\n",
      "      Value Footnotes  \n",
      "0                 NaN  \n",
      "1                 NaN  \n",
      "2                 NaN  \n",
      "3                 NaN  \n",
      "4                 NaN  \n",
      "...               ...  \n",
      "6865              NaN  \n",
      "6866              NaN  \n",
      "6867              NaN  \n",
      "6868              NaN  \n",
      "6869              NaN  \n",
      "\n",
      "[6870 rows x 4 columns]\n"
     ]
    }
   ],
   "source": [
    "print(gdp_df)"
   ]
  },
  {
   "cell_type": "code",
   "execution_count": 10,
   "id": "e270ca74",
   "metadata": {},
   "outputs": [
    {
     "name": "stdout",
     "output_type": "stream",
     "text": [
      "     Country or Area      Year     Value  Value Footnotes\n",
      "0        Afghanistan      2014  6.390000              NaN\n",
      "1        Afghanistan      2013  5.900000              NaN\n",
      "2        Afghanistan      2012  5.454545              NaN\n",
      "3        Afghanistan      2011  5.000000              NaN\n",
      "4        Afghanistan      2010  4.000000              NaN\n",
      "...              ...       ...       ...              ...\n",
      "4491        Zimbabwe      1996  0.016790              NaN\n",
      "4492        Zimbabwe      1995  0.007684              NaN\n",
      "4493        Zimbabwe      1994  0.001739              NaN\n",
      "4494        Zimbabwe      1990  0.000000              NaN\n",
      "4495   footnoteSeqID  Footnote       NaN              NaN\n",
      "\n",
      "[4496 rows x 4 columns]\n"
     ]
    }
   ],
   "source": [
    "print(internet_df)"
   ]
  },
  {
   "cell_type": "markdown",
   "id": "730b148a",
   "metadata": {},
   "source": [
    "###9.Take a look at the last 10 rows of each DataFrame in turn."
   ]
  },
  {
   "cell_type": "code",
   "execution_count": 11,
   "id": "6dc0bcf9",
   "metadata": {},
   "outputs": [
    {
     "name": "stdout",
     "output_type": "stream",
     "text": [
      "     Country or Area                                      Year        Value  \\\n",
      "6860        Zimbabwe                                      1997  3580.048793   \n",
      "6861        Zimbabwe                                      1996  3520.430146   \n",
      "6862        Zimbabwe                                      1995  3226.413930   \n",
      "6863        Zimbabwe                                      1994  3263.934978   \n",
      "6864        Zimbabwe                                      1993  3033.504852   \n",
      "6865        Zimbabwe                                      1992  3054.889178   \n",
      "6866        Zimbabwe                                      1991  3426.598094   \n",
      "6867        Zimbabwe                                      1990  3324.348171   \n",
      "6868   footnoteSeqID                                  Footnote          NaN   \n",
      "6869               2  Excludes South Sudan after July 9, 2011.          NaN   \n",
      "\n",
      "      Value Footnotes  \n",
      "6860              NaN  \n",
      "6861              NaN  \n",
      "6862              NaN  \n",
      "6863              NaN  \n",
      "6864              NaN  \n",
      "6865              NaN  \n",
      "6866              NaN  \n",
      "6867              NaN  \n",
      "6868              NaN  \n",
      "6869              NaN  \n"
     ]
    }
   ],
   "source": [
    "print(gdp_df.tail(n=10))"
   ]
  },
  {
   "cell_type": "code",
   "execution_count": 12,
   "id": "6a72e995",
   "metadata": {},
   "outputs": [
    {
     "name": "stdout",
     "output_type": "stream",
     "text": [
      "     Country or Area      Year     Value  Value Footnotes\n",
      "4486        Zimbabwe      2001  0.799846              NaN\n",
      "4487        Zimbabwe      2000  0.401434              NaN\n",
      "4488        Zimbabwe      1999  0.161676              NaN\n",
      "4489        Zimbabwe      1998  0.081648              NaN\n",
      "4490        Zimbabwe      1997  0.033080              NaN\n",
      "4491        Zimbabwe      1996  0.016790              NaN\n",
      "4492        Zimbabwe      1995  0.007684              NaN\n",
      "4493        Zimbabwe      1994  0.001739              NaN\n",
      "4494        Zimbabwe      1990  0.000000              NaN\n",
      "4495   footnoteSeqID  Footnote       NaN              NaN\n"
     ]
    }
   ],
   "source": [
    "print(internet_df.tail(n=10))"
   ]
  },
  {
   "cell_type": "markdown",
   "id": "a9168824",
   "metadata": {},
   "source": [
    "#10.Drop the value footnotes column from both DataFrames. Check that this worked as expected."
   ]
  },
  {
   "cell_type": "code",
   "execution_count": 13,
   "id": "52a2dd75",
   "metadata": {},
   "outputs": [],
   "source": [
    "gdp_df=gdp_df.drop(['Value Footnotes'], axis=1)"
   ]
  },
  {
   "cell_type": "code",
   "execution_count": 14,
   "id": "89c1f746",
   "metadata": {},
   "outputs": [
    {
     "name": "stdout",
     "output_type": "stream",
     "text": [
      "     Country or Area                                      Year        Value\n",
      "0        Afghanistan                                      2019  2065.036398\n",
      "1        Afghanistan                                      2018  2033.779002\n",
      "2        Afghanistan                                      2017  2058.383832\n",
      "3        Afghanistan                                      2016  2057.062164\n",
      "4        Afghanistan                                      2015  2068.265904\n",
      "...              ...                                       ...          ...\n",
      "6865        Zimbabwe                                      1992  3054.889178\n",
      "6866        Zimbabwe                                      1991  3426.598094\n",
      "6867        Zimbabwe                                      1990  3324.348171\n",
      "6868   footnoteSeqID                                  Footnote          NaN\n",
      "6869               2  Excludes South Sudan after July 9, 2011.          NaN\n",
      "\n",
      "[6870 rows x 3 columns]\n"
     ]
    }
   ],
   "source": [
    "print(gdp_df)"
   ]
  },
  {
   "cell_type": "code",
   "execution_count": 15,
   "id": "29e3b173",
   "metadata": {},
   "outputs": [],
   "source": [
    "internet_df=internet_df.drop(['Value Footnotes'], axis=1)"
   ]
  },
  {
   "cell_type": "code",
   "execution_count": 16,
   "id": "43dbaa03",
   "metadata": {},
   "outputs": [
    {
     "name": "stdout",
     "output_type": "stream",
     "text": [
      "     Country or Area      Year     Value\n",
      "0        Afghanistan      2014  6.390000\n",
      "1        Afghanistan      2013  5.900000\n",
      "2        Afghanistan      2012  5.454545\n",
      "3        Afghanistan      2011  5.000000\n",
      "4        Afghanistan      2010  4.000000\n",
      "...              ...       ...       ...\n",
      "4491        Zimbabwe      1996  0.016790\n",
      "4492        Zimbabwe      1995  0.007684\n",
      "4493        Zimbabwe      1994  0.001739\n",
      "4494        Zimbabwe      1990  0.000000\n",
      "4495   footnoteSeqID  Footnote       NaN\n",
      "\n",
      "[4496 rows x 3 columns]\n"
     ]
    }
   ],
   "source": [
    "print(internet_df)"
   ]
  },
  {
   "cell_type": "markdown",
   "id": "9b1553f0",
   "metadata": {},
   "source": [
    "###11/12.Change the columns for the GDP Per Capita DataFrame to ‘Country’, ‘Year’, and ‘GDP_Per_Capita’.\n",
    "Change the columns for the Internet Users DataFrame to ‘Country’, ‘Year’, and ‘Internet_Users_Pct’."
   ]
  },
  {
   "cell_type": "code",
   "execution_count": 17,
   "id": "860ec17e",
   "metadata": {},
   "outputs": [],
   "source": [
    "gdp_df.columns =[ 'Country', 'Year','GDP_Per_Capita']"
   ]
  },
  {
   "cell_type": "code",
   "execution_count": 18,
   "id": "d7e1e415",
   "metadata": {},
   "outputs": [
    {
     "name": "stdout",
     "output_type": "stream",
     "text": [
      "            Country                                      Year  GDP_Per_Capita\n",
      "0       Afghanistan                                      2019     2065.036398\n",
      "1       Afghanistan                                      2018     2033.779002\n",
      "2       Afghanistan                                      2017     2058.383832\n",
      "3       Afghanistan                                      2016     2057.062164\n",
      "4       Afghanistan                                      2015     2068.265904\n",
      "...             ...                                       ...             ...\n",
      "6865       Zimbabwe                                      1992     3054.889178\n",
      "6866       Zimbabwe                                      1991     3426.598094\n",
      "6867       Zimbabwe                                      1990     3324.348171\n",
      "6868  footnoteSeqID                                  Footnote             NaN\n",
      "6869              2  Excludes South Sudan after July 9, 2011.             NaN\n",
      "\n",
      "[6870 rows x 3 columns]\n"
     ]
    }
   ],
   "source": [
    "print(gdp_df)"
   ]
  },
  {
   "cell_type": "code",
   "execution_count": 19,
   "id": "a83b790f",
   "metadata": {},
   "outputs": [],
   "source": [
    "internet_df.columns =[ 'Country', 'Year','Internet_Users_Pct']"
   ]
  },
  {
   "cell_type": "code",
   "execution_count": 20,
   "id": "b487102e",
   "metadata": {},
   "outputs": [
    {
     "name": "stdout",
     "output_type": "stream",
     "text": [
      "            Country      Year  Internet_Users_Pct\n",
      "0       Afghanistan      2014            6.390000\n",
      "1       Afghanistan      2013            5.900000\n",
      "2       Afghanistan      2012            5.454545\n",
      "3       Afghanistan      2011            5.000000\n",
      "4       Afghanistan      2010            4.000000\n",
      "...             ...       ...                 ...\n",
      "4491       Zimbabwe      1996            0.016790\n",
      "4492       Zimbabwe      1995            0.007684\n",
      "4493       Zimbabwe      1994            0.001739\n",
      "4494       Zimbabwe      1990            0.000000\n",
      "4495  footnoteSeqID  Footnote                 NaN\n",
      "\n",
      "[4496 rows x 3 columns]\n"
     ]
    }
   ],
   "source": [
    "print(internet_df)"
   ]
  },
  {
   "cell_type": "markdown",
   "id": "f8d82b09",
   "metadata": {},
   "source": [
    "###13.Merge the two DataFrames to one. Merge all rows from each of the two DataFrames. Call the new DataFrame gdp_and_internet_use."
   ]
  },
  {
   "cell_type": "code",
   "execution_count": 21,
   "id": "7e5e079d",
   "metadata": {},
   "outputs": [],
   "source": [
    "gdp_and_internet_use = pd.merge(gdp_df, internet_df,on=['Country','Year'],how='outer')"
   ]
  },
  {
   "cell_type": "markdown",
   "id": "872feda2",
   "metadata": {},
   "source": [
    "###15.Look at the first five rows of your new DataFrame to confirm it merged correctly."
   ]
  },
  {
   "cell_type": "code",
   "execution_count": 22,
   "id": "ed3d052e",
   "metadata": {},
   "outputs": [
    {
     "name": "stdout",
     "output_type": "stream",
     "text": [
      "       Country  Year  GDP_Per_Capita  Internet_Users_Pct\n",
      "0  Afghanistan  2019     2065.036398                 NaN\n",
      "1  Afghanistan  2018     2033.779002                 NaN\n",
      "2  Afghanistan  2017     2058.383832                 NaN\n",
      "3  Afghanistan  2016     2057.062164                 NaN\n",
      "4  Afghanistan  2015     2068.265904                 NaN\n"
     ]
    }
   ],
   "source": [
    "print(gdp_and_internet_use.head(n=5))"
   ]
  },
  {
   "cell_type": "markdown",
   "id": "013e5927",
   "metadata": {},
   "source": [
    "###15.Look at the last five rows to make sure the data is clean and as expected."
   ]
  },
  {
   "cell_type": "code",
   "execution_count": 23,
   "id": "66fd03fa",
   "metadata": {},
   "outputs": [
    {
     "name": "stdout",
     "output_type": "stream",
     "text": [
      "     Country  Year  GDP_Per_Capita  Internet_Users_Pct\n",
      "7902   Yemen  1999             NaN            0.056629\n",
      "7903   Yemen  1998             NaN            0.023323\n",
      "7904   Yemen  1997             NaN            0.015025\n",
      "7905   Yemen  1996             NaN            0.000621\n",
      "7906   Yemen  1990             NaN            0.000000\n"
     ]
    }
   ],
   "source": [
    "print(gdp_and_internet_use.tail(n=5))"
   ]
  },
  {
   "cell_type": "markdown",
   "id": "c3f4e25c",
   "metadata": {},
   "source": [
    "###16.Subset the combined DataFrame to keep only the data for 2004, 2009, and 2014. Check that this happened correctly."
   ]
  },
  {
   "cell_type": "code",
   "execution_count": 24,
   "id": "b2bcc09c",
   "metadata": {},
   "outputs": [],
   "source": [
    "gdp_and_internet_use_sub = gdp_and_internet_use[gdp_and_internet_use[\"Year\"].isin(['2004','2009','2014'])]"
   ]
  },
  {
   "cell_type": "code",
   "execution_count": 25,
   "id": "4a289d59",
   "metadata": {},
   "outputs": [
    {
     "name": "stdout",
     "output_type": "stream",
     "text": [
      "                    Country  Year  GDP_Per_Capita  Internet_Users_Pct\n",
      "5               Afghanistan  2014     2102.385234            6.390000\n",
      "10              Afghanistan  2009     1758.904043            3.550000\n",
      "15              Afghanistan  2004     1200.278256            0.105809\n",
      "23                  Albania  2014    11623.866679           60.100000\n",
      "28                  Albania  2009    10346.864199           41.200000\n",
      "...                     ...   ...             ...                 ...\n",
      "7870  Virgin Islands (U.S.)  2009             NaN           27.396510\n",
      "7875  Virgin Islands (U.S.)  2004             NaN           27.377009\n",
      "7887                  Yemen  2014             NaN           22.550000\n",
      "7892                  Yemen  2009             NaN            9.960000\n",
      "7897                  Yemen  2004             NaN            0.881223\n",
      "\n",
      "[830 rows x 4 columns]\n"
     ]
    }
   ],
   "source": [
    "print(gdp_and_internet_use_sub)"
   ]
  },
  {
   "cell_type": "markdown",
   "id": "c827635e",
   "metadata": {},
   "source": [
    "###17.Create three new DataFrames, one for 2004, one for 2009, and one for 2014. Give them meaningful names that aren't too long."
   ]
  },
  {
   "cell_type": "code",
   "execution_count": 26,
   "id": "9edb2004",
   "metadata": {},
   "outputs": [
    {
     "name": "stderr",
     "output_type": "stream",
     "text": [
      "C:\\Users\\iulia\\AppData\\Local\\Temp/ipykernel_22784/2548977.py:1: UserWarning: Boolean Series key will be reindexed to match DataFrame index.\n",
      "  gdp_and_internet_use_2004 = gdp_and_internet_use_sub[gdp_and_internet_use[\"Year\"]=='2004']\n"
     ]
    }
   ],
   "source": [
    "gdp_and_internet_use_2004 = gdp_and_internet_use_sub[gdp_and_internet_use[\"Year\"]=='2004']"
   ]
  },
  {
   "cell_type": "code",
   "execution_count": 27,
   "id": "2d409346",
   "metadata": {},
   "outputs": [
    {
     "name": "stdout",
     "output_type": "stream",
     "text": [
      "                    Country  Year  GDP_Per_Capita  Internet_Users_Pct\n",
      "15              Afghanistan  2004     1200.278256            0.105809\n",
      "33                  Albania  2004     7604.838002            2.420388\n",
      "63                  Algeria  2004    10058.435939            4.634475\n",
      "93                   Angola  2004     5593.241537            0.464815\n",
      "123     Antigua and Barbuda  2004    18745.681534           24.266544\n",
      "...                     ...   ...             ...                 ...\n",
      "7773     T.F.Y.R. Macedonia  2004             NaN           24.440000\n",
      "7831              Venezuela  2004             NaN            8.404470\n",
      "7855               Viet Nam  2004             NaN            7.642409\n",
      "7875  Virgin Islands (U.S.)  2004             NaN           27.377009\n",
      "7897                  Yemen  2004             NaN            0.881223\n",
      "\n",
      "[276 rows x 4 columns]\n"
     ]
    }
   ],
   "source": [
    "print(gdp_and_internet_use_2004)"
   ]
  },
  {
   "cell_type": "code",
   "execution_count": 28,
   "id": "0af867f4",
   "metadata": {},
   "outputs": [
    {
     "name": "stderr",
     "output_type": "stream",
     "text": [
      "C:\\Users\\iulia\\AppData\\Local\\Temp/ipykernel_22784/1565708815.py:1: UserWarning: Boolean Series key will be reindexed to match DataFrame index.\n",
      "  gdp_and_internet_use_2009 = gdp_and_internet_use_sub[gdp_and_internet_use[\"Year\"]=='2009']\n"
     ]
    }
   ],
   "source": [
    "gdp_and_internet_use_2009 = gdp_and_internet_use_sub[gdp_and_internet_use[\"Year\"]=='2009']"
   ]
  },
  {
   "cell_type": "code",
   "execution_count": 29,
   "id": "5a2d1565",
   "metadata": {},
   "outputs": [
    {
     "name": "stdout",
     "output_type": "stream",
     "text": [
      "                    Country  Year  GDP_Per_Capita  Internet_Users_Pct\n",
      "10              Afghanistan  2009     1758.904043             3.55000\n",
      "28                  Albania  2009    10346.864199            41.20000\n",
      "58                  Algeria  2009    10782.361398            11.23000\n",
      "88                   Angola  2009     7643.493749             6.00000\n",
      "118     Antigua and Barbuda  2009    20046.839017            42.00000\n",
      "...                     ...   ...             ...                 ...\n",
      "7768     T.F.Y.R. Macedonia  2009             NaN            51.77000\n",
      "7826              Venezuela  2009             NaN            32.70000\n",
      "7850               Viet Nam  2009             NaN            26.55000\n",
      "7870  Virgin Islands (U.S.)  2009             NaN            27.39651\n",
      "7892                  Yemen  2009             NaN             9.96000\n",
      "\n",
      "[277 rows x 4 columns]\n"
     ]
    }
   ],
   "source": [
    "print(gdp_and_internet_use_2009)"
   ]
  },
  {
   "cell_type": "code",
   "execution_count": 30,
   "id": "19304bdf",
   "metadata": {},
   "outputs": [
    {
     "name": "stderr",
     "output_type": "stream",
     "text": [
      "C:\\Users\\iulia\\AppData\\Local\\Temp/ipykernel_22784/3872829687.py:1: UserWarning: Boolean Series key will be reindexed to match DataFrame index.\n",
      "  gdp_and_internet_use_2014 = gdp_and_internet_use_sub[gdp_and_internet_use[\"Year\"]=='2014']\n"
     ]
    }
   ],
   "source": [
    "gdp_and_internet_use_2014 = gdp_and_internet_use_sub[gdp_and_internet_use[\"Year\"]=='2014']"
   ]
  },
  {
   "cell_type": "code",
   "execution_count": 31,
   "id": "2975f405",
   "metadata": {},
   "outputs": [
    {
     "name": "stdout",
     "output_type": "stream",
     "text": [
      "                    Country  Year  GDP_Per_Capita  Internet_Users_Pct\n",
      "5               Afghanistan  2014     2102.385234                6.39\n",
      "23                  Albania  2014    11623.866679               60.10\n",
      "53                  Algeria  2014    11512.705405               18.09\n",
      "83                   Angola  2014     8239.828837               21.26\n",
      "113     Antigua and Barbuda  2014    18104.241470               64.00\n",
      "...                     ...   ...             ...                 ...\n",
      "7763     T.F.Y.R. Macedonia  2014             NaN               68.06\n",
      "7821              Venezuela  2014             NaN               57.00\n",
      "7845               Viet Nam  2014             NaN               48.31\n",
      "7865  Virgin Islands (U.S.)  2014             NaN               50.07\n",
      "7887                  Yemen  2014             NaN               22.55\n",
      "\n",
      "[277 rows x 4 columns]\n"
     ]
    }
   ],
   "source": [
    "print(gdp_and_internet_use_2014)"
   ]
  },
  {
   "cell_type": "markdown",
   "id": "4a6843fe",
   "metadata": {},
   "source": [
    "###18.Which country had the highest percentage of internet users in 2014? What was the percentage? (Try typing the first 3 letters of your DataFrame name and hitting the tab key for auto-complete options)."
   ]
  },
  {
   "cell_type": "code",
   "execution_count": 32,
   "id": "4a27a628",
   "metadata": {},
   "outputs": [
    {
     "name": "stdout",
     "output_type": "stream",
     "text": [
      "Country                  Iceland\n",
      "Year                        2014\n",
      "GDP_Per_Capita        49652.1495\n",
      "Internet_Users_Pct         98.16\n",
      "Name: 2625, dtype: object\n"
     ]
    }
   ],
   "source": [
    "print(gdp_and_internet_use_2014.loc[gdp_and_internet_use_2014['Internet_Users_Pct'].idxmax()])"
   ]
  },
  {
   "cell_type": "code",
   "execution_count": 33,
   "id": "a40a5565",
   "metadata": {},
   "outputs": [
    {
     "name": "stdout",
     "output_type": "stream",
     "text": [
      "Country               Dem. People's Rep. of Korea\n",
      "Year                                         2014\n",
      "GDP_Per_Capita                                NaN\n",
      "Internet_Users_Pct                            0.0\n",
      "Name: 7081, dtype: object\n"
     ]
    }
   ],
   "source": [
    "print(gdp_and_internet_use_2014.loc[gdp_and_internet_use_2014['Internet_Users_Pct'].idxmin()])"
   ]
  },
  {
   "cell_type": "markdown",
   "id": "0b4beba4",
   "metadata": {},
   "source": [
    "###20.Repeat for 2004 and 2009."
   ]
  },
  {
   "cell_type": "code",
   "execution_count": 34,
   "id": "f2fa4cf6",
   "metadata": {},
   "outputs": [
    {
     "name": "stdout",
     "output_type": "stream",
     "text": [
      "Country                     Sweden\n",
      "Year                          2004\n",
      "GDP_Per_Capita        44496.023401\n",
      "Internet_Users_Pct           83.89\n",
      "Name: 6019, dtype: object\n"
     ]
    }
   ],
   "source": [
    "print(gdp_and_internet_use_2004.loc[gdp_and_internet_use_2004['Internet_Users_Pct'].idxmax()])"
   ]
  },
  {
   "cell_type": "code",
   "execution_count": 35,
   "id": "d87767a5",
   "metadata": {},
   "outputs": [
    {
     "name": "stdout",
     "output_type": "stream",
     "text": [
      "Country               Dem. People's Rep. of Korea\n",
      "Year                                         2004\n",
      "GDP_Per_Capita                                NaN\n",
      "Internet_Users_Pct                            0.0\n",
      "Name: 7090, dtype: object\n"
     ]
    }
   ],
   "source": [
    "print(gdp_and_internet_use_2004.loc[gdp_and_internet_use_2004['Internet_Users_Pct'].idxmin()])"
   ]
  },
  {
   "cell_type": "code",
   "execution_count": 36,
   "id": "c14bb4ad",
   "metadata": {
    "scrolled": true
   },
   "outputs": [
    {
     "name": "stdout",
     "output_type": "stream",
     "text": [
      "Country                    Iceland\n",
      "Year                          2009\n",
      "GDP_Per_Capita        48177.084123\n",
      "Internet_Users_Pct            93.0\n",
      "Name: 2630, dtype: object\n"
     ]
    }
   ],
   "source": [
    "print(gdp_and_internet_use_2009.loc[gdp_and_internet_use_2009['Internet_Users_Pct'].idxmax()])"
   ]
  },
  {
   "cell_type": "code",
   "execution_count": 37,
   "id": "6577e6cc",
   "metadata": {},
   "outputs": [
    {
     "name": "stdout",
     "output_type": "stream",
     "text": [
      "Country               Dem. People's Rep. of Korea\n",
      "Year                                         2009\n",
      "GDP_Per_Capita                                NaN\n",
      "Internet_Users_Pct                            0.0\n",
      "Name: 7085, dtype: object\n"
     ]
    }
   ],
   "source": [
    "print(gdp_and_internet_use_2009.loc[gdp_and_internet_use_2009['Internet_Users_Pct'].idxmin()])"
   ]
  },
  {
   "cell_type": "markdown",
   "id": "0417424b",
   "metadata": {},
   "source": [
    "###21.Which country had the highest gdp per capita in 2014? What was the gdp per capita?"
   ]
  },
  {
   "cell_type": "code",
   "execution_count": 38,
   "id": "e23896fd",
   "metadata": {},
   "outputs": [
    {
     "name": "stdout",
     "output_type": "stream",
     "text": [
      "Country                  Luxembourg\n",
      "Year                           2009\n",
      "GDP_Per_Capita        104932.811953\n",
      "Internet_Users_Pct            87.31\n",
      "Name: 3696, dtype: object\n"
     ]
    }
   ],
   "source": [
    "print(gdp_and_internet_use_2009.loc[gdp_and_internet_use_2009['GDP_Per_Capita'].idxmax()])"
   ]
  },
  {
   "cell_type": "markdown",
   "id": "8b567406",
   "metadata": {},
   "source": [
    "###22.Which country had the lowest gdp per capita in 2014? What was the gdp per capita?"
   ]
  },
  {
   "cell_type": "code",
   "execution_count": 39,
   "id": "bbab2ab0",
   "metadata": {},
   "outputs": [
    {
     "name": "stdout",
     "output_type": "stream",
     "text": [
      "Country                  Burundi\n",
      "Year                        2009\n",
      "GDP_Per_Capita        831.564131\n",
      "Internet_Users_Pct           0.9\n",
      "Name: 832, dtype: object\n"
     ]
    }
   ],
   "source": [
    "print(gdp_and_internet_use_2009.loc[gdp_and_internet_use_2009['GDP_Per_Capita'].idxmin()])"
   ]
  },
  {
   "cell_type": "markdown",
   "id": "bc1f8eef",
   "metadata": {},
   "source": [
    "###23.Create some scatterplots:\n",
    "a. 2004 Percent Using the Internet vs GDP Per Capita"
   ]
  },
  {
   "cell_type": "code",
   "execution_count": 40,
   "id": "851d0063",
   "metadata": {},
   "outputs": [
    {
     "data": {
      "text/plain": [
       "<AxesSubplot:xlabel='GDP_Per_Capita', ylabel='Internet_Users_Pct'>"
      ]
     },
     "execution_count": 40,
     "metadata": {},
     "output_type": "execute_result"
    },
    {
     "data": {
      "image/png": "[encoded data removed]",
      "text/plain": [
       "<Figure size 432x288 with 1 Axes>"
      ]
     },
     "metadata": {
      "needs_background": "light"
     },
     "output_type": "display_data"
    }
   ],
   "source": [
    "gdp_and_internet_use_2004.plot.scatter(\"GDP_Per_Capita\",\"Internet_Users_Pct\")"
   ]
  },
  {
   "cell_type": "markdown",
   "id": "4148c4f4",
   "metadata": {},
   "source": [
    "###23.Create some scatterplots: b. 2009 Percent Using the Internet vs GDP Per Capita"
   ]
  },
  {
   "cell_type": "code",
   "execution_count": 41,
   "id": "d8dadfd7",
   "metadata": {},
   "outputs": [
    {
     "data": {
      "text/plain": [
       "<AxesSubplot:xlabel='GDP_Per_Capita', ylabel='Internet_Users_Pct'>"
      ]
     },
     "execution_count": 41,
     "metadata": {},
     "output_type": "execute_result"
    },
    {
     "data": {
      "image/png": "[encoded data removed]",
      "text/plain": [
       "<Figure size 432x288 with 1 Axes>"
      ]
     },
     "metadata": {
      "needs_background": "light"
     },
     "output_type": "display_data"
    }
   ],
   "source": [
    "gdp_and_internet_use_2009.plot.scatter(\"GDP_Per_Capita\",\"Internet_Users_Pct\")"
   ]
  },
  {
   "cell_type": "markdown",
   "id": "47a7e5ef",
   "metadata": {},
   "source": [
    "###23.Create some scatterplots: c. 2014 Percent Using the Internet vs GDP Per Capita"
   ]
  },
  {
   "cell_type": "code",
   "execution_count": 42,
   "id": "e9715b25",
   "metadata": {},
   "outputs": [
    {
     "data": {
      "text/plain": [
       "<AxesSubplot:xlabel='GDP_Per_Capita', ylabel='Internet_Users_Pct'>"
      ]
     },
     "execution_count": 42,
     "metadata": {},
     "output_type": "execute_result"
    },
    {
     "data": {
      "image/png": "[encoded data removed]",
      "text/plain": [
       "<Figure size 432x288 with 1 Axes>"
      ]
     },
     "metadata": {
      "needs_background": "light"
     },
     "output_type": "display_data"
    }
   ],
   "source": [
    "gdp_and_internet_use_2014.plot.scatter(\"GDP_Per_Capita\",\"Internet_Users_Pct\")"
   ]
  },
  {
   "cell_type": "markdown",
   "id": "e1b1777a",
   "metadata": {},
   "source": [
    "###27.What are the top 5 countries in terms of internet use in 2014?"
   ]
  },
  {
   "cell_type": "code",
   "execution_count": 43,
   "id": "8b30aee4",
   "metadata": {},
   "outputs": [
    {
     "data": {
      "text/html": [
       "<div>\n",
       "<style scoped>\n",
       "    .dataframe tbody tr th:only-of-type {\n",
       "        vertical-align: middle;\n",
       "    }\n",
       "\n",
       "    .dataframe tbody tr th {\n",
       "        vertical-align: top;\n",
       "    }\n",
       "\n",
       "    .dataframe thead th {\n",
       "        text-align: right;\n",
       "    }\n",
       "</style>\n",
       "<table border=\"1\" class=\"dataframe\">\n",
       "  <thead>\n",
       "    <tr style=\"text-align: right;\">\n",
       "      <th></th>\n",
       "      <th>Country</th>\n",
       "      <th>Year</th>\n",
       "      <th>GDP_Per_Capita</th>\n",
       "      <th>Internet_Users_Pct</th>\n",
       "    </tr>\n",
       "  </thead>\n",
       "  <tbody>\n",
       "    <tr>\n",
       "      <th>2625</th>\n",
       "      <td>Iceland</td>\n",
       "      <td>2014</td>\n",
       "      <td>49652.149500</td>\n",
       "      <td>98.16</td>\n",
       "    </tr>\n",
       "    <tr>\n",
       "      <th>561</th>\n",
       "      <td>Bermuda</td>\n",
       "      <td>2014</td>\n",
       "      <td>77361.104881</td>\n",
       "      <td>96.80</td>\n",
       "    </tr>\n",
       "    <tr>\n",
       "      <th>4648</th>\n",
       "      <td>Norway</td>\n",
       "      <td>2014</td>\n",
       "      <td>62589.373548</td>\n",
       "      <td>96.30</td>\n",
       "    </tr>\n",
       "    <tr>\n",
       "      <th>1452</th>\n",
       "      <td>Denmark</td>\n",
       "      <td>2014</td>\n",
       "      <td>52214.537753</td>\n",
       "      <td>95.99</td>\n",
       "    </tr>\n",
       "    <tr>\n",
       "      <th>6873</th>\n",
       "      <td>Andorra</td>\n",
       "      <td>2014</td>\n",
       "      <td>NaN</td>\n",
       "      <td>95.90</td>\n",
       "    </tr>\n",
       "  </tbody>\n",
       "</table>\n",
       "</div>"
      ],
      "text/plain": [
       "      Country  Year  GDP_Per_Capita  Internet_Users_Pct\n",
       "2625  Iceland  2014    49652.149500               98.16\n",
       "561   Bermuda  2014    77361.104881               96.80\n",
       "4648   Norway  2014    62589.373548               96.30\n",
       "1452  Denmark  2014    52214.537753               95.99\n",
       "6873  Andorra  2014             NaN               95.90"
      ]
     },
     "execution_count": 43,
     "metadata": {},
     "output_type": "execute_result"
    }
   ],
   "source": [
    "internet_use_top5 = gdp_and_internet_use_2014.nlargest(5,'Internet_Users_Pct')\n",
    "internet_use_top5"
   ]
  },
  {
   "cell_type": "code",
   "execution_count": 44,
   "id": "30e1369f",
   "metadata": {},
   "outputs": [
    {
     "data": {
      "text/plain": [
       "['Iceland', 'Bermuda', 'Norway', 'Denmark', 'Andorra']"
      ]
     },
     "execution_count": 44,
     "metadata": {},
     "output_type": "execute_result"
    }
   ],
   "source": [
    "internet_use_top5 = internet_use_top5[\"Country\"].tolist()\n",
    "internet_use_top5"
   ]
  },
  {
   "cell_type": "markdown",
   "id": "496fdd1a",
   "metadata": {},
   "source": [
    "###28.Create a DataFrame called top_5_internet from the combined DataFrame that has all three years for the 5 countries that had the greatest 2014 internet usage. You should have 15 rows. Check that this is true."
   ]
  },
  {
   "cell_type": "code",
   "execution_count": 45,
   "id": "b54c462b",
   "metadata": {},
   "outputs": [],
   "source": [
    "top_5_internet = gdp_and_internet_use_sub[gdp_and_internet_use_sub['Country'].isin(internet_use_top5)]"
   ]
  },
  {
   "cell_type": "code",
   "execution_count": 46,
   "id": "ccbd5bb3",
   "metadata": {},
   "outputs": [
    {
     "data": {
      "text/html": [
       "<div>\n",
       "<style scoped>\n",
       "    .dataframe tbody tr th:only-of-type {\n",
       "        vertical-align: middle;\n",
       "    }\n",
       "\n",
       "    .dataframe tbody tr th {\n",
       "        vertical-align: top;\n",
       "    }\n",
       "\n",
       "    .dataframe thead th {\n",
       "        text-align: right;\n",
       "    }\n",
       "</style>\n",
       "<table border=\"1\" class=\"dataframe\">\n",
       "  <thead>\n",
       "    <tr style=\"text-align: right;\">\n",
       "      <th></th>\n",
       "      <th>Country</th>\n",
       "      <th>Year</th>\n",
       "      <th>GDP_Per_Capita</th>\n",
       "      <th>Internet_Users_Pct</th>\n",
       "    </tr>\n",
       "  </thead>\n",
       "  <tbody>\n",
       "    <tr>\n",
       "      <th>561</th>\n",
       "      <td>Bermuda</td>\n",
       "      <td>2014</td>\n",
       "      <td>77361.104881</td>\n",
       "      <td>96.800000</td>\n",
       "    </tr>\n",
       "    <tr>\n",
       "      <th>566</th>\n",
       "      <td>Bermuda</td>\n",
       "      <td>2009</td>\n",
       "      <td>89961.982744</td>\n",
       "      <td>83.250000</td>\n",
       "    </tr>\n",
       "    <tr>\n",
       "      <th>571</th>\n",
       "      <td>Bermuda</td>\n",
       "      <td>2004</td>\n",
       "      <td>90195.811033</td>\n",
       "      <td>60.990867</td>\n",
       "    </tr>\n",
       "    <tr>\n",
       "      <th>1452</th>\n",
       "      <td>Denmark</td>\n",
       "      <td>2014</td>\n",
       "      <td>52214.537753</td>\n",
       "      <td>95.990000</td>\n",
       "    </tr>\n",
       "    <tr>\n",
       "      <th>1457</th>\n",
       "      <td>Denmark</td>\n",
       "      <td>2009</td>\n",
       "      <td>50274.075696</td>\n",
       "      <td>86.840000</td>\n",
       "    </tr>\n",
       "    <tr>\n",
       "      <th>1462</th>\n",
       "      <td>Denmark</td>\n",
       "      <td>2004</td>\n",
       "      <td>50607.628971</td>\n",
       "      <td>80.930000</td>\n",
       "    </tr>\n",
       "    <tr>\n",
       "      <th>2625</th>\n",
       "      <td>Iceland</td>\n",
       "      <td>2014</td>\n",
       "      <td>49652.149500</td>\n",
       "      <td>98.160000</td>\n",
       "    </tr>\n",
       "    <tr>\n",
       "      <th>2630</th>\n",
       "      <td>Iceland</td>\n",
       "      <td>2009</td>\n",
       "      <td>48177.084123</td>\n",
       "      <td>93.000000</td>\n",
       "    </tr>\n",
       "    <tr>\n",
       "      <th>2635</th>\n",
       "      <td>Iceland</td>\n",
       "      <td>2004</td>\n",
       "      <td>45145.545658</td>\n",
       "      <td>83.880000</td>\n",
       "    </tr>\n",
       "    <tr>\n",
       "      <th>4648</th>\n",
       "      <td>Norway</td>\n",
       "      <td>2014</td>\n",
       "      <td>62589.373548</td>\n",
       "      <td>96.300000</td>\n",
       "    </tr>\n",
       "    <tr>\n",
       "      <th>4653</th>\n",
       "      <td>Norway</td>\n",
       "      <td>2009</td>\n",
       "      <td>61886.564498</td>\n",
       "      <td>92.080000</td>\n",
       "    </tr>\n",
       "    <tr>\n",
       "      <th>4658</th>\n",
       "      <td>Norway</td>\n",
       "      <td>2004</td>\n",
       "      <td>60893.410993</td>\n",
       "      <td>77.690000</td>\n",
       "    </tr>\n",
       "    <tr>\n",
       "      <th>6873</th>\n",
       "      <td>Andorra</td>\n",
       "      <td>2014</td>\n",
       "      <td>NaN</td>\n",
       "      <td>95.900000</td>\n",
       "    </tr>\n",
       "    <tr>\n",
       "      <th>6878</th>\n",
       "      <td>Andorra</td>\n",
       "      <td>2009</td>\n",
       "      <td>NaN</td>\n",
       "      <td>78.530000</td>\n",
       "    </tr>\n",
       "    <tr>\n",
       "      <th>6883</th>\n",
       "      <td>Andorra</td>\n",
       "      <td>2004</td>\n",
       "      <td>NaN</td>\n",
       "      <td>26.837954</td>\n",
       "    </tr>\n",
       "  </tbody>\n",
       "</table>\n",
       "</div>"
      ],
      "text/plain": [
       "      Country  Year  GDP_Per_Capita  Internet_Users_Pct\n",
       "561   Bermuda  2014    77361.104881           96.800000\n",
       "566   Bermuda  2009    89961.982744           83.250000\n",
       "571   Bermuda  2004    90195.811033           60.990867\n",
       "1452  Denmark  2014    52214.537753           95.990000\n",
       "1457  Denmark  2009    50274.075696           86.840000\n",
       "1462  Denmark  2004    50607.628971           80.930000\n",
       "2625  Iceland  2014    49652.149500           98.160000\n",
       "2630  Iceland  2009    48177.084123           93.000000\n",
       "2635  Iceland  2004    45145.545658           83.880000\n",
       "4648   Norway  2014    62589.373548           96.300000\n",
       "4653   Norway  2009    61886.564498           92.080000\n",
       "4658   Norway  2004    60893.410993           77.690000\n",
       "6873  Andorra  2014             NaN           95.900000\n",
       "6878  Andorra  2009             NaN           78.530000\n",
       "6883  Andorra  2004             NaN           26.837954"
      ]
     },
     "execution_count": 46,
     "metadata": {},
     "output_type": "execute_result"
    }
   ],
   "source": [
    "top_5_internet"
   ]
  },
  {
   "cell_type": "markdown",
   "id": "3f4ca1e6",
   "metadata": {},
   "source": [
    "###29.Create a seaborn FacetGrid to show the internet usage trend across the years 2004, 2009, and 2014 for these 5 countries (those with the highest reported internet use in 2014). Which country had the greatest growth between 2004 and 2014? Bermuda\n"
   ]
  },
  {
   "cell_type": "code",
   "execution_count": 47,
   "id": "d4baba84",
   "metadata": {
    "scrolled": true
   },
   "outputs": [
    {
     "data": {
      "image/png": "[encoded data removed]",
      "text/plain": [
       "<Figure size 1080x216 with 5 Axes>"
      ]
     },
     "metadata": {
      "needs_background": "light"
     },
     "output_type": "display_data"
    }
   ],
   "source": [
    "top_5_internet_sorted =top_5_internet.sort_values('Year')\n",
    "g = sns.FacetGrid(top_5_internet_sorted, col='Country')\n",
    "g.map(plt.plot,\"Year\",\"Internet_Users_Pct\")\n",
    "g.set_axis_labels(\"Year\", \"Internet User %\")\n",
    "g.set_titles(col_template = \"{col_name}\");\n"
   ]
  },
  {
   "cell_type": "markdown",
   "id": "65fb6617",
   "metadata": {},
   "source": [
    "###30.Repeat the steps above to look at the trend for the 5 countries with the lowest 2014 internet usage. Which country has consistently had the least internet use? :\tTimor-Leste"
   ]
  },
  {
   "cell_type": "code",
   "execution_count": 48,
   "id": "261ecf61",
   "metadata": {},
   "outputs": [
    {
     "data": {
      "text/html": [
       "<div>\n",
       "<style scoped>\n",
       "    .dataframe tbody tr th:only-of-type {\n",
       "        vertical-align: middle;\n",
       "    }\n",
       "\n",
       "    .dataframe tbody tr th {\n",
       "        vertical-align: top;\n",
       "    }\n",
       "\n",
       "    .dataframe thead th {\n",
       "        text-align: right;\n",
       "    }\n",
       "</style>\n",
       "<table border=\"1\" class=\"dataframe\">\n",
       "  <thead>\n",
       "    <tr style=\"text-align: right;\">\n",
       "      <th></th>\n",
       "      <th>Country</th>\n",
       "      <th>Year</th>\n",
       "      <th>GDP_Per_Capita</th>\n",
       "      <th>Internet_Users_Pct</th>\n",
       "    </tr>\n",
       "  </thead>\n",
       "  <tbody>\n",
       "    <tr>\n",
       "      <th>7081</th>\n",
       "      <td>Dem. People's Rep. of Korea</td>\n",
       "      <td>2014</td>\n",
       "      <td>NaN</td>\n",
       "      <td>0.00</td>\n",
       "    </tr>\n",
       "    <tr>\n",
       "      <th>7139</th>\n",
       "      <td>Eritrea</td>\n",
       "      <td>2014</td>\n",
       "      <td>NaN</td>\n",
       "      <td>0.99</td>\n",
       "    </tr>\n",
       "    <tr>\n",
       "      <th>6219</th>\n",
       "      <td>Timor-Leste</td>\n",
       "      <td>2014</td>\n",
       "      <td>3264.568070</td>\n",
       "      <td>1.14</td>\n",
       "    </tr>\n",
       "    <tr>\n",
       "      <th>827</th>\n",
       "      <td>Burundi</td>\n",
       "      <td>2014</td>\n",
       "      <td>886.235777</td>\n",
       "      <td>1.38</td>\n",
       "    </tr>\n",
       "    <tr>\n",
       "      <th>7676</th>\n",
       "      <td>Somalia</td>\n",
       "      <td>2014</td>\n",
       "      <td>NaN</td>\n",
       "      <td>1.63</td>\n",
       "    </tr>\n",
       "  </tbody>\n",
       "</table>\n",
       "</div>"
      ],
      "text/plain": [
       "                          Country  Year  GDP_Per_Capita  Internet_Users_Pct\n",
       "7081  Dem. People's Rep. of Korea  2014             NaN                0.00\n",
       "7139                      Eritrea  2014             NaN                0.99\n",
       "6219                  Timor-Leste  2014     3264.568070                1.14\n",
       "827                       Burundi  2014      886.235777                1.38\n",
       "7676                      Somalia  2014             NaN                1.63"
      ]
     },
     "execution_count": 48,
     "metadata": {},
     "output_type": "execute_result"
    }
   ],
   "source": [
    "internet_bottom5 = gdp_and_internet_use_2014.nsmallest(5,'Internet_Users_Pct')\n",
    "internet_bottom5"
   ]
  },
  {
   "cell_type": "code",
   "execution_count": 49,
   "id": "afac5e40",
   "metadata": {},
   "outputs": [
    {
     "data": {
      "text/plain": [
       "[\"Dem. People's Rep. of Korea\", 'Eritrea', 'Timor-Leste', 'Burundi', 'Somalia']"
      ]
     },
     "execution_count": 49,
     "metadata": {},
     "output_type": "execute_result"
    }
   ],
   "source": [
    "bottom5_internet = internet_bottom5[\"Country\"].tolist()\n",
    "bottom5_internet"
   ]
  },
  {
   "cell_type": "code",
   "execution_count": 50,
   "id": "6e9154a6",
   "metadata": {},
   "outputs": [],
   "source": [
    "bottom_5_internet = gdp_and_internet_use_sub[gdp_and_internet_use_sub['Country'].isin(bottom5_internet)]"
   ]
  },
  {
   "cell_type": "code",
   "execution_count": 51,
   "id": "ab309768",
   "metadata": {},
   "outputs": [
    {
     "data": {
      "text/html": [
       "<div>\n",
       "<style scoped>\n",
       "    .dataframe tbody tr th:only-of-type {\n",
       "        vertical-align: middle;\n",
       "    }\n",
       "\n",
       "    .dataframe tbody tr th {\n",
       "        vertical-align: top;\n",
       "    }\n",
       "\n",
       "    .dataframe thead th {\n",
       "        text-align: right;\n",
       "    }\n",
       "</style>\n",
       "<table border=\"1\" class=\"dataframe\">\n",
       "  <thead>\n",
       "    <tr style=\"text-align: right;\">\n",
       "      <th></th>\n",
       "      <th>Country</th>\n",
       "      <th>Year</th>\n",
       "      <th>GDP_Per_Capita</th>\n",
       "      <th>Internet_Users_Pct</th>\n",
       "    </tr>\n",
       "  </thead>\n",
       "  <tbody>\n",
       "    <tr>\n",
       "      <th>827</th>\n",
       "      <td>Burundi</td>\n",
       "      <td>2014</td>\n",
       "      <td>886.235777</td>\n",
       "      <td>1.380000</td>\n",
       "    </tr>\n",
       "    <tr>\n",
       "      <th>832</th>\n",
       "      <td>Burundi</td>\n",
       "      <td>2009</td>\n",
       "      <td>831.564131</td>\n",
       "      <td>0.900000</td>\n",
       "    </tr>\n",
       "    <tr>\n",
       "      <th>837</th>\n",
       "      <td>Burundi</td>\n",
       "      <td>2004</td>\n",
       "      <td>817.460585</td>\n",
       "      <td>0.349060</td>\n",
       "    </tr>\n",
       "    <tr>\n",
       "      <th>6219</th>\n",
       "      <td>Timor-Leste</td>\n",
       "      <td>2014</td>\n",
       "      <td>3264.568070</td>\n",
       "      <td>1.140000</td>\n",
       "    </tr>\n",
       "    <tr>\n",
       "      <th>6224</th>\n",
       "      <td>Timor-Leste</td>\n",
       "      <td>2009</td>\n",
       "      <td>2724.770973</td>\n",
       "      <td>0.185252</td>\n",
       "    </tr>\n",
       "    <tr>\n",
       "      <th>6229</th>\n",
       "      <td>Timor-Leste</td>\n",
       "      <td>2004</td>\n",
       "      <td>2258.608056</td>\n",
       "      <td>NaN</td>\n",
       "    </tr>\n",
       "    <tr>\n",
       "      <th>7081</th>\n",
       "      <td>Dem. People's Rep. of Korea</td>\n",
       "      <td>2014</td>\n",
       "      <td>NaN</td>\n",
       "      <td>0.000000</td>\n",
       "    </tr>\n",
       "    <tr>\n",
       "      <th>7085</th>\n",
       "      <td>Dem. People's Rep. of Korea</td>\n",
       "      <td>2009</td>\n",
       "      <td>NaN</td>\n",
       "      <td>0.000000</td>\n",
       "    </tr>\n",
       "    <tr>\n",
       "      <th>7090</th>\n",
       "      <td>Dem. People's Rep. of Korea</td>\n",
       "      <td>2004</td>\n",
       "      <td>NaN</td>\n",
       "      <td>0.000000</td>\n",
       "    </tr>\n",
       "    <tr>\n",
       "      <th>7139</th>\n",
       "      <td>Eritrea</td>\n",
       "      <td>2014</td>\n",
       "      <td>NaN</td>\n",
       "      <td>0.990000</td>\n",
       "    </tr>\n",
       "    <tr>\n",
       "      <th>7144</th>\n",
       "      <td>Eritrea</td>\n",
       "      <td>2009</td>\n",
       "      <td>NaN</td>\n",
       "      <td>0.540000</td>\n",
       "    </tr>\n",
       "    <tr>\n",
       "      <th>7676</th>\n",
       "      <td>Somalia</td>\n",
       "      <td>2014</td>\n",
       "      <td>NaN</td>\n",
       "      <td>1.630000</td>\n",
       "    </tr>\n",
       "    <tr>\n",
       "      <th>7680</th>\n",
       "      <td>Somalia</td>\n",
       "      <td>2009</td>\n",
       "      <td>NaN</td>\n",
       "      <td>1.160611</td>\n",
       "    </tr>\n",
       "    <tr>\n",
       "      <th>7685</th>\n",
       "      <td>Somalia</td>\n",
       "      <td>2004</td>\n",
       "      <td>NaN</td>\n",
       "      <td>1.053455</td>\n",
       "    </tr>\n",
       "  </tbody>\n",
       "</table>\n",
       "</div>"
      ],
      "text/plain": [
       "                          Country  Year  GDP_Per_Capita  Internet_Users_Pct\n",
       "827                       Burundi  2014      886.235777            1.380000\n",
       "832                       Burundi  2009      831.564131            0.900000\n",
       "837                       Burundi  2004      817.460585            0.349060\n",
       "6219                  Timor-Leste  2014     3264.568070            1.140000\n",
       "6224                  Timor-Leste  2009     2724.770973            0.185252\n",
       "6229                  Timor-Leste  2004     2258.608056                 NaN\n",
       "7081  Dem. People's Rep. of Korea  2014             NaN            0.000000\n",
       "7085  Dem. People's Rep. of Korea  2009             NaN            0.000000\n",
       "7090  Dem. People's Rep. of Korea  2004             NaN            0.000000\n",
       "7139                      Eritrea  2014             NaN            0.990000\n",
       "7144                      Eritrea  2009             NaN            0.540000\n",
       "7676                      Somalia  2014             NaN            1.630000\n",
       "7680                      Somalia  2009             NaN            1.160611\n",
       "7685                      Somalia  2004             NaN            1.053455"
      ]
     },
     "execution_count": 51,
     "metadata": {},
     "output_type": "execute_result"
    }
   ],
   "source": [
    "bottom_5_internet"
   ]
  },
  {
   "cell_type": "code",
   "execution_count": 52,
   "id": "6fefe6db",
   "metadata": {
    "scrolled": true
   },
   "outputs": [
    {
     "data": {
      "image/png": "[encoded data removed]",
      "text/plain": [
       "<Figure size 1080x216 with 5 Axes>"
      ]
     },
     "metadata": {
      "needs_background": "light"
     },
     "output_type": "display_data"
    }
   ],
   "source": [
    "bottom_5_internet_sorted =bottom_5_internet.sort_values('Year')\n",
    "g = sns.FacetGrid(bottom_5_internet_sorted, col='Country')\n",
    "g.map(plt.plot,\"Year\",\"Internet_Users_Pct\")\n",
    "g.set_axis_labels(\"Year\", \"Internet User %\")\n",
    "g.set_titles(col_template = \"{col_name}\");"
   ]
  },
  {
   "cell_type": "markdown",
   "id": "52613d56",
   "metadata": {},
   "source": [
    "###31.Find the top 5 countries for 2014 in terms of GDP per capita; create a DataFrame to look at 10-year trends (use 2004, 2009, 2014 to look at the 10-year trend) in gdp per capita for the 5 countries with the highest 2014 GDP per capita. Use a seaborn facet grid for this."
   ]
  },
  {
   "cell_type": "code",
   "execution_count": 53,
   "id": "bba5706a",
   "metadata": {},
   "outputs": [
    {
     "data": {
      "text/html": [
       "<div>\n",
       "<style scoped>\n",
       "    .dataframe tbody tr th:only-of-type {\n",
       "        vertical-align: middle;\n",
       "    }\n",
       "\n",
       "    .dataframe tbody tr th {\n",
       "        vertical-align: top;\n",
       "    }\n",
       "\n",
       "    .dataframe thead th {\n",
       "        text-align: right;\n",
       "    }\n",
       "</style>\n",
       "<table border=\"1\" class=\"dataframe\">\n",
       "  <thead>\n",
       "    <tr style=\"text-align: right;\">\n",
       "      <th></th>\n",
       "      <th>Country</th>\n",
       "      <th>Year</th>\n",
       "      <th>GDP_Per_Capita</th>\n",
       "      <th>Internet_Users_Pct</th>\n",
       "    </tr>\n",
       "  </thead>\n",
       "  <tbody>\n",
       "    <tr>\n",
       "      <th>3721</th>\n",
       "      <td>Macao SAR, China</td>\n",
       "      <td>2014</td>\n",
       "      <td>156514.133850</td>\n",
       "      <td>NaN</td>\n",
       "    </tr>\n",
       "    <tr>\n",
       "      <th>3691</th>\n",
       "      <td>Luxembourg</td>\n",
       "      <td>2014</td>\n",
       "      <td>108760.916030</td>\n",
       "      <td>94.67</td>\n",
       "    </tr>\n",
       "    <tr>\n",
       "      <th>5138</th>\n",
       "      <td>Qatar</td>\n",
       "      <td>2014</td>\n",
       "      <td>95578.416973</td>\n",
       "      <td>91.49</td>\n",
       "    </tr>\n",
       "    <tr>\n",
       "      <th>5464</th>\n",
       "      <td>Singapore</td>\n",
       "      <td>2014</td>\n",
       "      <td>87808.663157</td>\n",
       "      <td>82.00</td>\n",
       "    </tr>\n",
       "    <tr>\n",
       "      <th>561</th>\n",
       "      <td>Bermuda</td>\n",
       "      <td>2014</td>\n",
       "      <td>77361.104881</td>\n",
       "      <td>96.80</td>\n",
       "    </tr>\n",
       "  </tbody>\n",
       "</table>\n",
       "</div>"
      ],
      "text/plain": [
       "               Country  Year  GDP_Per_Capita  Internet_Users_Pct\n",
       "3721  Macao SAR, China  2014   156514.133850                 NaN\n",
       "3691        Luxembourg  2014   108760.916030               94.67\n",
       "5138             Qatar  2014    95578.416973               91.49\n",
       "5464         Singapore  2014    87808.663157               82.00\n",
       "561            Bermuda  2014    77361.104881               96.80"
      ]
     },
     "execution_count": 53,
     "metadata": {},
     "output_type": "execute_result"
    }
   ],
   "source": [
    "top5_gdp = gdp_and_internet_use_2014.nlargest(5,'GDP_Per_Capita')\n",
    "top5_gdp"
   ]
  },
  {
   "cell_type": "code",
   "execution_count": 54,
   "id": "c5972b37",
   "metadata": {},
   "outputs": [
    {
     "data": {
      "text/plain": [
       "['Macao SAR, China', 'Luxembourg', 'Qatar', 'Singapore', 'Bermuda']"
      ]
     },
     "execution_count": 54,
     "metadata": {},
     "output_type": "execute_result"
    }
   ],
   "source": [
    "gdp_top5 = top5_gdp[\"Country\"].tolist()\n",
    "gdp_top5"
   ]
  },
  {
   "cell_type": "code",
   "execution_count": 55,
   "id": "1016798f",
   "metadata": {},
   "outputs": [],
   "source": [
    "top_5_gdp = gdp_and_internet_use_sub[gdp_and_internet_use_sub['Country'].isin(gdp_top5)]"
   ]
  },
  {
   "cell_type": "code",
   "execution_count": 56,
   "id": "d448d848",
   "metadata": {},
   "outputs": [],
   "source": [
    "top_5_gdp_sorted =top_5_gdp.sort_values('Year')"
   ]
  },
  {
   "cell_type": "code",
   "execution_count": 57,
   "id": "b964cb1d",
   "metadata": {},
   "outputs": [
    {
     "data": {
      "text/html": [
       "<div>\n",
       "<style scoped>\n",
       "    .dataframe tbody tr th:only-of-type {\n",
       "        vertical-align: middle;\n",
       "    }\n",
       "\n",
       "    .dataframe tbody tr th {\n",
       "        vertical-align: top;\n",
       "    }\n",
       "\n",
       "    .dataframe thead th {\n",
       "        text-align: right;\n",
       "    }\n",
       "</style>\n",
       "<table border=\"1\" class=\"dataframe\">\n",
       "  <thead>\n",
       "    <tr style=\"text-align: right;\">\n",
       "      <th></th>\n",
       "      <th>Country</th>\n",
       "      <th>Year</th>\n",
       "      <th>GDP_Per_Capita</th>\n",
       "      <th>Internet_Users_Pct</th>\n",
       "    </tr>\n",
       "  </thead>\n",
       "  <tbody>\n",
       "    <tr>\n",
       "      <th>571</th>\n",
       "      <td>Bermuda</td>\n",
       "      <td>2004</td>\n",
       "      <td>90195.811033</td>\n",
       "      <td>60.990867</td>\n",
       "    </tr>\n",
       "    <tr>\n",
       "      <th>3701</th>\n",
       "      <td>Luxembourg</td>\n",
       "      <td>2004</td>\n",
       "      <td>102708.212547</td>\n",
       "      <td>65.880000</td>\n",
       "    </tr>\n",
       "    <tr>\n",
       "      <th>3731</th>\n",
       "      <td>Macao SAR, China</td>\n",
       "      <td>2004</td>\n",
       "      <td>72944.409424</td>\n",
       "      <td>NaN</td>\n",
       "    </tr>\n",
       "    <tr>\n",
       "      <th>5148</th>\n",
       "      <td>Qatar</td>\n",
       "      <td>2004</td>\n",
       "      <td>93748.301216</td>\n",
       "      <td>20.701648</td>\n",
       "    </tr>\n",
       "    <tr>\n",
       "      <th>5474</th>\n",
       "      <td>Singapore</td>\n",
       "      <td>2004</td>\n",
       "      <td>63901.716368</td>\n",
       "      <td>62.000000</td>\n",
       "    </tr>\n",
       "    <tr>\n",
       "      <th>566</th>\n",
       "      <td>Bermuda</td>\n",
       "      <td>2009</td>\n",
       "      <td>89961.982744</td>\n",
       "      <td>83.250000</td>\n",
       "    </tr>\n",
       "    <tr>\n",
       "      <th>3696</th>\n",
       "      <td>Luxembourg</td>\n",
       "      <td>2009</td>\n",
       "      <td>104932.811953</td>\n",
       "      <td>87.310000</td>\n",
       "    </tr>\n",
       "    <tr>\n",
       "      <th>3726</th>\n",
       "      <td>Macao SAR, China</td>\n",
       "      <td>2009</td>\n",
       "      <td>95939.340822</td>\n",
       "      <td>NaN</td>\n",
       "    </tr>\n",
       "    <tr>\n",
       "      <th>5143</th>\n",
       "      <td>Qatar</td>\n",
       "      <td>2009</td>\n",
       "      <td>89954.519993</td>\n",
       "      <td>53.100000</td>\n",
       "    </tr>\n",
       "    <tr>\n",
       "      <th>5469</th>\n",
       "      <td>Singapore</td>\n",
       "      <td>2009</td>\n",
       "      <td>69466.581746</td>\n",
       "      <td>69.000000</td>\n",
       "    </tr>\n",
       "    <tr>\n",
       "      <th>561</th>\n",
       "      <td>Bermuda</td>\n",
       "      <td>2014</td>\n",
       "      <td>77361.104881</td>\n",
       "      <td>96.800000</td>\n",
       "    </tr>\n",
       "    <tr>\n",
       "      <th>3691</th>\n",
       "      <td>Luxembourg</td>\n",
       "      <td>2014</td>\n",
       "      <td>108760.916030</td>\n",
       "      <td>94.670000</td>\n",
       "    </tr>\n",
       "    <tr>\n",
       "      <th>3721</th>\n",
       "      <td>Macao SAR, China</td>\n",
       "      <td>2014</td>\n",
       "      <td>156514.133850</td>\n",
       "      <td>NaN</td>\n",
       "    </tr>\n",
       "    <tr>\n",
       "      <th>5138</th>\n",
       "      <td>Qatar</td>\n",
       "      <td>2014</td>\n",
       "      <td>95578.416973</td>\n",
       "      <td>91.490000</td>\n",
       "    </tr>\n",
       "    <tr>\n",
       "      <th>5464</th>\n",
       "      <td>Singapore</td>\n",
       "      <td>2014</td>\n",
       "      <td>87808.663157</td>\n",
       "      <td>82.000000</td>\n",
       "    </tr>\n",
       "  </tbody>\n",
       "</table>\n",
       "</div>"
      ],
      "text/plain": [
       "               Country  Year  GDP_Per_Capita  Internet_Users_Pct\n",
       "571            Bermuda  2004    90195.811033           60.990867\n",
       "3701        Luxembourg  2004   102708.212547           65.880000\n",
       "3731  Macao SAR, China  2004    72944.409424                 NaN\n",
       "5148             Qatar  2004    93748.301216           20.701648\n",
       "5474         Singapore  2004    63901.716368           62.000000\n",
       "566            Bermuda  2009    89961.982744           83.250000\n",
       "3696        Luxembourg  2009   104932.811953           87.310000\n",
       "3726  Macao SAR, China  2009    95939.340822                 NaN\n",
       "5143             Qatar  2009    89954.519993           53.100000\n",
       "5469         Singapore  2009    69466.581746           69.000000\n",
       "561            Bermuda  2014    77361.104881           96.800000\n",
       "3691        Luxembourg  2014   108760.916030           94.670000\n",
       "3721  Macao SAR, China  2014   156514.133850                 NaN\n",
       "5138             Qatar  2014    95578.416973           91.490000\n",
       "5464         Singapore  2014    87808.663157           82.000000"
      ]
     },
     "execution_count": 57,
     "metadata": {},
     "output_type": "execute_result"
    }
   ],
   "source": [
    "top_5_gdp_sorted"
   ]
  },
  {
   "cell_type": "code",
   "execution_count": 58,
   "id": "d342bb56",
   "metadata": {},
   "outputs": [
    {
     "data": {
      "image/png": "[encoded data removed]",
      "text/plain": [
       "<Figure size 1080x216 with 5 Axes>"
      ]
     },
     "metadata": {
      "needs_background": "light"
     },
     "output_type": "display_data"
    }
   ],
   "source": [
    "g = sns.FacetGrid(top_5_gdp_sorted, col='Country')\n",
    "g.map(plt.plot,\"Year\",\"GDP_Per_Capita\")\n",
    "g.set_axis_labels(\"Year\", \"GDP\")\n",
    "g.set_titles(col_template = \"{col_name}\");"
   ]
  },
  {
   "cell_type": "code",
   "execution_count": 59,
   "id": "29c8efa4",
   "metadata": {},
   "outputs": [
    {
     "data": {
      "text/html": [
       "<div>\n",
       "<style scoped>\n",
       "    .dataframe tbody tr th:only-of-type {\n",
       "        vertical-align: middle;\n",
       "    }\n",
       "\n",
       "    .dataframe tbody tr th {\n",
       "        vertical-align: top;\n",
       "    }\n",
       "\n",
       "    .dataframe thead th {\n",
       "        text-align: right;\n",
       "    }\n",
       "</style>\n",
       "<table border=\"1\" class=\"dataframe\">\n",
       "  <thead>\n",
       "    <tr style=\"text-align: right;\">\n",
       "      <th></th>\n",
       "      <th>Country</th>\n",
       "      <th>Year</th>\n",
       "      <th>GDP_Per_Capita</th>\n",
       "      <th>Internet_Users_Pct</th>\n",
       "    </tr>\n",
       "  </thead>\n",
       "  <tbody>\n",
       "    <tr>\n",
       "      <th>1047</th>\n",
       "      <td>Central African Republic</td>\n",
       "      <td>2014</td>\n",
       "      <td>822.610458</td>\n",
       "      <td>NaN</td>\n",
       "    </tr>\n",
       "    <tr>\n",
       "      <th>827</th>\n",
       "      <td>Burundi</td>\n",
       "      <td>2014</td>\n",
       "      <td>886.235777</td>\n",
       "      <td>1.38</td>\n",
       "    </tr>\n",
       "    <tr>\n",
       "      <th>3781</th>\n",
       "      <td>Malawi</td>\n",
       "      <td>2014</td>\n",
       "      <td>1027.208496</td>\n",
       "      <td>5.83</td>\n",
       "    </tr>\n",
       "    <tr>\n",
       "      <th>1422</th>\n",
       "      <td>Dem. Rep. Congo</td>\n",
       "      <td>2014</td>\n",
       "      <td>1029.790785</td>\n",
       "      <td>NaN</td>\n",
       "    </tr>\n",
       "    <tr>\n",
       "      <th>4528</th>\n",
       "      <td>Niger</td>\n",
       "      <td>2014</td>\n",
       "      <td>1127.615541</td>\n",
       "      <td>1.95</td>\n",
       "    </tr>\n",
       "  </tbody>\n",
       "</table>\n",
       "</div>"
      ],
      "text/plain": [
       "                       Country  Year  GDP_Per_Capita  Internet_Users_Pct\n",
       "1047  Central African Republic  2014      822.610458                 NaN\n",
       "827                    Burundi  2014      886.235777                1.38\n",
       "3781                    Malawi  2014     1027.208496                5.83\n",
       "1422           Dem. Rep. Congo  2014     1029.790785                 NaN\n",
       "4528                     Niger  2014     1127.615541                1.95"
      ]
     },
     "execution_count": 59,
     "metadata": {},
     "output_type": "execute_result"
    }
   ],
   "source": [
    "bottom5_gdp = gdp_and_internet_use_2014.nsmallest(5,'GDP_Per_Capita')\n",
    "bottom5_gdp "
   ]
  },
  {
   "cell_type": "code",
   "execution_count": 60,
   "id": "1e7a0479",
   "metadata": {},
   "outputs": [
    {
     "data": {
      "text/plain": [
       "['Central African Republic', 'Burundi', 'Malawi', 'Dem. Rep. Congo', 'Niger']"
      ]
     },
     "execution_count": 60,
     "metadata": {},
     "output_type": "execute_result"
    }
   ],
   "source": [
    "gdp_bottom5 = bottom5_gdp['Country'].tolist()\n",
    "gdp_bottom5"
   ]
  },
  {
   "cell_type": "code",
   "execution_count": 61,
   "id": "79928e87",
   "metadata": {},
   "outputs": [],
   "source": [
    "bottom_5_gdp = gdp_and_internet_use_sub[gdp_and_internet_use_sub['Country'].isin(gdp_bottom5)]"
   ]
  },
  {
   "cell_type": "code",
   "execution_count": 62,
   "id": "3f9fed0b",
   "metadata": {},
   "outputs": [],
   "source": [
    "bottom_5_gdp_sorted =bottom_5_gdp.sort_values('Year')"
   ]
  },
  {
   "cell_type": "code",
   "execution_count": 63,
   "id": "9ed83346",
   "metadata": {},
   "outputs": [
    {
     "data": {
      "text/html": [
       "<div>\n",
       "<style scoped>\n",
       "    .dataframe tbody tr th:only-of-type {\n",
       "        vertical-align: middle;\n",
       "    }\n",
       "\n",
       "    .dataframe tbody tr th {\n",
       "        vertical-align: top;\n",
       "    }\n",
       "\n",
       "    .dataframe thead th {\n",
       "        text-align: right;\n",
       "    }\n",
       "</style>\n",
       "<table border=\"1\" class=\"dataframe\">\n",
       "  <thead>\n",
       "    <tr style=\"text-align: right;\">\n",
       "      <th></th>\n",
       "      <th>Country</th>\n",
       "      <th>Year</th>\n",
       "      <th>GDP_Per_Capita</th>\n",
       "      <th>Internet_Users_Pct</th>\n",
       "    </tr>\n",
       "  </thead>\n",
       "  <tbody>\n",
       "    <tr>\n",
       "      <th>837</th>\n",
       "      <td>Burundi</td>\n",
       "      <td>2004</td>\n",
       "      <td>817.460585</td>\n",
       "      <td>0.349060</td>\n",
       "    </tr>\n",
       "    <tr>\n",
       "      <th>1057</th>\n",
       "      <td>Central African Republic</td>\n",
       "      <td>2004</td>\n",
       "      <td>1037.846766</td>\n",
       "      <td>NaN</td>\n",
       "    </tr>\n",
       "    <tr>\n",
       "      <th>1432</th>\n",
       "      <td>Dem. Rep. Congo</td>\n",
       "      <td>2004</td>\n",
       "      <td>757.685942</td>\n",
       "      <td>NaN</td>\n",
       "    </tr>\n",
       "    <tr>\n",
       "      <th>3791</th>\n",
       "      <td>Malawi</td>\n",
       "      <td>2004</td>\n",
       "      <td>775.346132</td>\n",
       "      <td>0.347505</td>\n",
       "    </tr>\n",
       "    <tr>\n",
       "      <th>4538</th>\n",
       "      <td>Niger</td>\n",
       "      <td>2004</td>\n",
       "      <td>929.883920</td>\n",
       "      <td>0.189934</td>\n",
       "    </tr>\n",
       "    <tr>\n",
       "      <th>832</th>\n",
       "      <td>Burundi</td>\n",
       "      <td>2009</td>\n",
       "      <td>831.564131</td>\n",
       "      <td>0.900000</td>\n",
       "    </tr>\n",
       "    <tr>\n",
       "      <th>1052</th>\n",
       "      <td>Central African Republic</td>\n",
       "      <td>2009</td>\n",
       "      <td>1161.189475</td>\n",
       "      <td>NaN</td>\n",
       "    </tr>\n",
       "    <tr>\n",
       "      <th>1427</th>\n",
       "      <td>Dem. Rep. Congo</td>\n",
       "      <td>2009</td>\n",
       "      <td>835.611696</td>\n",
       "      <td>NaN</td>\n",
       "    </tr>\n",
       "    <tr>\n",
       "      <th>3786</th>\n",
       "      <td>Malawi</td>\n",
       "      <td>2009</td>\n",
       "      <td>932.867635</td>\n",
       "      <td>1.070000</td>\n",
       "    </tr>\n",
       "    <tr>\n",
       "      <th>4533</th>\n",
       "      <td>Niger</td>\n",
       "      <td>2009</td>\n",
       "      <td>992.409977</td>\n",
       "      <td>0.760000</td>\n",
       "    </tr>\n",
       "    <tr>\n",
       "      <th>827</th>\n",
       "      <td>Burundi</td>\n",
       "      <td>2014</td>\n",
       "      <td>886.235777</td>\n",
       "      <td>1.380000</td>\n",
       "    </tr>\n",
       "    <tr>\n",
       "      <th>1047</th>\n",
       "      <td>Central African Republic</td>\n",
       "      <td>2014</td>\n",
       "      <td>822.610458</td>\n",
       "      <td>NaN</td>\n",
       "    </tr>\n",
       "    <tr>\n",
       "      <th>1422</th>\n",
       "      <td>Dem. Rep. Congo</td>\n",
       "      <td>2014</td>\n",
       "      <td>1029.790785</td>\n",
       "      <td>NaN</td>\n",
       "    </tr>\n",
       "    <tr>\n",
       "      <th>3781</th>\n",
       "      <td>Malawi</td>\n",
       "      <td>2014</td>\n",
       "      <td>1027.208496</td>\n",
       "      <td>5.830000</td>\n",
       "    </tr>\n",
       "    <tr>\n",
       "      <th>4528</th>\n",
       "      <td>Niger</td>\n",
       "      <td>2014</td>\n",
       "      <td>1127.615541</td>\n",
       "      <td>1.950000</td>\n",
       "    </tr>\n",
       "  </tbody>\n",
       "</table>\n",
       "</div>"
      ],
      "text/plain": [
       "                       Country  Year  GDP_Per_Capita  Internet_Users_Pct\n",
       "837                    Burundi  2004      817.460585            0.349060\n",
       "1057  Central African Republic  2004     1037.846766                 NaN\n",
       "1432           Dem. Rep. Congo  2004      757.685942                 NaN\n",
       "3791                    Malawi  2004      775.346132            0.347505\n",
       "4538                     Niger  2004      929.883920            0.189934\n",
       "832                    Burundi  2009      831.564131            0.900000\n",
       "1052  Central African Republic  2009     1161.189475                 NaN\n",
       "1427           Dem. Rep. Congo  2009      835.611696                 NaN\n",
       "3786                    Malawi  2009      932.867635            1.070000\n",
       "4533                     Niger  2009      992.409977            0.760000\n",
       "827                    Burundi  2014      886.235777            1.380000\n",
       "1047  Central African Republic  2014      822.610458                 NaN\n",
       "1422           Dem. Rep. Congo  2014     1029.790785                 NaN\n",
       "3781                    Malawi  2014     1027.208496            5.830000\n",
       "4528                     Niger  2014     1127.615541            1.950000"
      ]
     },
     "execution_count": 63,
     "metadata": {},
     "output_type": "execute_result"
    }
   ],
   "source": [
    "bottom_5_gdp_sorted"
   ]
  },
  {
   "cell_type": "code",
   "execution_count": 64,
   "id": "10a92673",
   "metadata": {},
   "outputs": [
    {
     "data": {
      "image/png": "[encoded data removed]",
      "text/plain": [
       "<Figure size 1080x216 with 5 Axes>"
      ]
     },
     "metadata": {
      "needs_background": "light"
     },
     "output_type": "display_data"
    }
   ],
   "source": [
    "g = sns.FacetGrid(bottom_5_gdp_sorted, col='Country')\n",
    "g.map(plt.plot,\"Year\",\"GDP_Per_Capita\")\n",
    "g.set_axis_labels(\"Year\", \"GDP\")\n",
    "g.set_titles(col_template = \"{col_name}\");"
   ]
  },
  {
   "cell_type": "markdown",
   "id": "953dd536",
   "metadata": {},
   "source": [
    "##25.Look at the distribution of gdp per capita values for 2014. Is it unimodal?:**It's Unimodal**"
   ]
  },
  {
   "cell_type": "code",
   "execution_count": 65,
   "id": "1b397481",
   "metadata": {},
   "outputs": [
    {
     "data": {
      "image/png": "[encoded data removed]",
      "text/plain": [
       "<Figure size 432x288 with 1 Axes>"
      ]
     },
     "metadata": {
      "needs_background": "light"
     },
     "output_type": "display_data"
    }
   ],
   "source": [
    "gdp_and_internet_use_2014.hist(\"GDP_Per_Capita\");"
   ]
  },
  {
   "cell_type": "code",
   "execution_count": 66,
   "id": "87f7304a",
   "metadata": {},
   "outputs": [
    {
     "data": {
      "image/png": "[encoded data removed]",
      "text/plain": [
       "<Figure size 432x288 with 1 Axes>"
      ]
     },
     "metadata": {
      "needs_background": "light"
     },
     "output_type": "display_data"
    }
   ],
   "source": [
    "gdp_and_internet_use_2014.plot(\"Year\",\"GDP_Per_Capita\");"
   ]
  },
  {
   "cell_type": "markdown",
   "id": "b1d008d2",
   "metadata": {},
   "source": [
    "##26.Look at the distribution of Internet Use for 2014. Is it unimodal?:**It's not Unimodal**"
   ]
  },
  {
   "cell_type": "code",
   "execution_count": 67,
   "id": "93071362",
   "metadata": {},
   "outputs": [
    {
     "data": {
      "image/png": "[encoded data removed]",
      "text/plain": [
       "<Figure size 432x288 with 1 Axes>"
      ]
     },
     "metadata": {
      "needs_background": "light"
     },
     "output_type": "display_data"
    }
   ],
   "source": [
    "gdp_and_internet_use_2014.hist(\"Internet_Users_Pct\");"
   ]
  },
  {
   "cell_type": "code",
   "execution_count": 68,
   "id": "34f8a34b",
   "metadata": {},
   "outputs": [
    {
     "data": {
      "image/png": "[encoded data removed]",
      "text/plain": [
       "<Figure size 432x288 with 1 Axes>"
      ]
     },
     "metadata": {
      "needs_background": "light"
     },
     "output_type": "display_data"
    }
   ],
   "source": [
    "gdp_and_internet_use_2014.plot(\"Year\",\"Internet_Users_Pct\");"
   ]
  },
  {
   "cell_type": "markdown",
   "id": "1542bcbc",
   "metadata": {},
   "source": [
    "###24.Are there differences across years? What do the plots tell you about any relationship between these two variables? Enter your observations as a markdown cell.:There is a correlation between a country's GDP and the number of internet users.Both values seem to develop at similar rates, which means that when a variable increases, the second value grows as well. However, this shows that the two values are correlated, but not necessarily in terms of causation, as more evidences is needed to prove that one variable causes each other. Looks like there was a significant increase in internet usage from 2009 to 2014.\n"
   ]
  },
  {
   "cell_type": "markdown",
   "id": "ef56663b",
   "metadata": {},
   "source": [
    "##33.Is there anything surprising or unusual in any of these plots? Searching on the internet, can you find any possible explanations for unusual findings?\n",
    "November 4th, 2008 Barack Obama wins the 56th presidential election. Many political experts believe it was the campaign’s use of social media and online fundraising that enabled it to successfully elect the first black president into the Oval Office. He’s been winning the internet ever since.\n",
    "\n",
    "July 16, 2010 Kevin Systrom, CEO and founder of Instagram, posts the first image to the app. It’s a picture of a dog and a foot encased in a flip-flop. The foot belongs to Kevin’s girlfriend at the time. The origins of the perky golden retriever in the photo are unknown, but we’re pretty sure he’s the original #dogsofinstagram.\n",
    "\n",
    "January 18th, 2012 Both large and small websites throughout the internet go down in the largest act of online activism yet seen, an organized campaign to protest a bill called SOPA (Stop Online Piracy Act). Opponents of the bill say the strict copyright laws would have crippled free speech and innovation on the internet. It fails to pass the Senate.\n",
    "\n",
    "2013 Memes and viral videos abound across social media channels, including twerk fails, the Harlem Shake, Grumpy Cat, and plenty of people who now know what the fox says. Amazon also terrifies everyone by threatening delivery via drones.\n",
    "\n",
    "February 7th, 2014 Google acquires smart-thermostat company, Nest, for 3.4 million and kicks off a flurry of investment in the developing IoT (Internet of Things)"
   ]
  }
 ],
 "metadata": {
  "kernelspec": {
   "display_name": "Python 3 (ipykernel)",
   "language": "python",
   "name": "python3"
  },
  "language_info": {
   "codemirror_mode": {
    "name": "ipython",
    "version": 3
   },
   "file_extension": ".py",
   "mimetype": "text/x-python",
   "name": "python",
   "nbconvert_exporter": "python",
   "pygments_lexer": "ipython3",
   "version": "3.9.7"
  }
 },
 "nbformat": 4,
 "nbformat_minor": 5
}
